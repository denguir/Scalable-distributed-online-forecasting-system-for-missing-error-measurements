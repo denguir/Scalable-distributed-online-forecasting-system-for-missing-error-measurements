{
 "cells": [
  {
   "cell_type": "code",
   "execution_count": 1,
   "metadata": {
    "collapsed": true
   },
   "outputs": [],
   "source": [
    "from kafka import KafkaProducer\n",
    "import time\n",
    "import numpy as np\n",
    "import pandas as pd"
   ]
  },
  {
   "cell_type": "code",
   "execution_count": 2,
   "metadata": {
    "collapsed": true
   },
   "outputs": [],
   "source": [
    "#Takes about one minute to load\n",
    "data=pd.read_csv(\"../../data/data.conv.txt.gz\",header=None,sep=\" \")\n",
    "data.columns=[\"Date\",\"Hour\",\"Sensor\",\"Value\",\"Voltage\"]\n",
    "data=data.sort_values(['Date','Hour']).reset_index(drop=True)\n",
    "\n",
    "data['datetime']=pd.to_datetime(data.Date+' '+data.Hour)\n",
    "data['relative_datetime']=data['datetime']-data['datetime'][0]\n",
    "data['seconds']=data['relative_datetime'].dt.total_seconds()\n",
    "\n",
    "sensorId_type=data.Sensor.str.split(\"-\",expand=True)\n",
    "sensorId_type.columns=['SensorId','Type']\n",
    "data['SensorId']=sensorId_type['SensorId'].astype(int)\n",
    "data['Type']=sensorId_type['Type'].astype(int)"
   ]
  },
  {
   "cell_type": "code",
   "execution_count": 3,
   "metadata": {
    "collapsed": true
   },
   "outputs": [],
   "source": [
    "#Drop features not needed for the simulation\n",
    "data=data.drop(['datetime','relative_datetime','Sensor','Date','Hour','Voltage'],axis=1)"
   ]
  },
  {
   "cell_type": "code",
   "execution_count": 4,
   "metadata": {},
   "outputs": [
    {
     "data": {
      "text/html": [
       "<div>\n",
       "<style>\n",
       "    .dataframe thead tr:only-child th {\n",
       "        text-align: right;\n",
       "    }\n",
       "\n",
       "    .dataframe thead th {\n",
       "        text-align: left;\n",
       "    }\n",
       "\n",
       "    .dataframe tbody tr th {\n",
       "        vertical-align: top;\n",
       "    }\n",
       "</style>\n",
       "<table border=\"1\" class=\"dataframe\">\n",
       "  <thead>\n",
       "    <tr style=\"text-align: right;\">\n",
       "      <th></th>\n",
       "      <th>Value</th>\n",
       "      <th>seconds</th>\n",
       "      <th>SensorId</th>\n",
       "      <th>Type</th>\n",
       "    </tr>\n",
       "  </thead>\n",
       "  <tbody>\n",
       "    <tr>\n",
       "      <th>0</th>\n",
       "      <td>17.6364</td>\n",
       "      <td>0.000</td>\n",
       "      <td>41</td>\n",
       "      <td>0</td>\n",
       "    </tr>\n",
       "    <tr>\n",
       "      <th>1</th>\n",
       "      <td>16.6956</td>\n",
       "      <td>0.007</td>\n",
       "      <td>44</td>\n",
       "      <td>0</td>\n",
       "    </tr>\n",
       "    <tr>\n",
       "      <th>2</th>\n",
       "      <td>45.7037</td>\n",
       "      <td>0.092</td>\n",
       "      <td>41</td>\n",
       "      <td>1</td>\n",
       "    </tr>\n",
       "    <tr>\n",
       "      <th>3</th>\n",
       "      <td>2.3000</td>\n",
       "      <td>0.237</td>\n",
       "      <td>44</td>\n",
       "      <td>2</td>\n",
       "    </tr>\n",
       "    <tr>\n",
       "      <th>4</th>\n",
       "      <td>47.9942</td>\n",
       "      <td>0.285</td>\n",
       "      <td>44</td>\n",
       "      <td>1</td>\n",
       "    </tr>\n",
       "  </tbody>\n",
       "</table>\n",
       "</div>"
      ],
      "text/plain": [
       "     Value  seconds  SensorId  Type\n",
       "0  17.6364    0.000        41     0\n",
       "1  16.6956    0.007        44     0\n",
       "2  45.7037    0.092        41     1\n",
       "3   2.3000    0.237        44     2\n",
       "4  47.9942    0.285        44     1"
      ]
     },
     "execution_count": 4,
     "metadata": {},
     "output_type": "execute_result"
    }
   ],
   "source": [
    "data[:5]"
   ]
  },
  {
   "cell_type": "code",
   "execution_count": 58,
   "metadata": {
    "collapsed": true
   },
   "outputs": [],
   "source": [
    "temp=data[data.Type==0]\n",
    "temp=temp.reset_index(drop=True)"
   ]
  },
  {
   "cell_type": "code",
   "execution_count": 59,
   "metadata": {},
   "outputs": [
    {
     "name": "stdout",
     "output_type": "stream",
     "text": [
      "     Value  seconds  SensorId  Type\n",
      "0  17.6364    0.000        41     0\n",
      "1  16.6956    0.007        44     0\n",
      "2  19.1456   18.034        33     0\n",
      "3  17.1268   18.288        53     0\n",
      "4  18.9104   18.298        19     0\n",
      "5  17.6952   18.416        28     0\n",
      "6  19.2142   18.431        10     0\n",
      "7  18.8908   18.478        21     0\n",
      "8  19.8904   18.486         4     0\n",
      "9  19.5278   18.631         3     0\n"
     ]
    }
   ],
   "source": [
    "# Sensors to predict\n",
    "sensors_to_predict = [1, 24]\n",
    "temp = temp[temp.SensorId <= 54]\n",
    "print(temp[:10])"
   ]
  },
  {
   "cell_type": "code",
   "execution_count": 69,
   "metadata": {},
   "outputs": [],
   "source": [
    "day_to_predict = 3 # must be at least 1\n",
    "temp_train = temp[(temp.seconds < day_to_predict*86400) & (temp.seconds > (day_to_predict-1)*86400)]\n",
    "temp_train = temp_train.dropna()\n",
    "#temp_test = temp[(temp.seconds >= day_to_predict*86400) & (temp.seconds < (day_to_predict+1)*86400)]"
   ]
  },
  {
   "cell_type": "code",
   "execution_count": 70,
   "metadata": {},
   "outputs": [
    {
     "data": {
      "text/plain": [
       "False"
      ]
     },
     "execution_count": 70,
     "metadata": {},
     "output_type": "execute_result"
    }
   ],
   "source": [
    "temp_train.isnull().any().any()"
   ]
  },
  {
   "cell_type": "code",
   "execution_count": 71,
   "metadata": {
    "collapsed": true
   },
   "outputs": [],
   "source": [
    "def rollup(temp, interval, day_begin=0):\n",
    "    # roll up data according to a time interval\n",
    "    first_temp = day_begin*86400\n",
    "    last_temp = temp.iloc[-1].seconds\n",
    "    time_bins = int((last_temp-first_temp)/interval) + 1\n",
    "    temp_sync = np.zeros((time_bins, 5)) # Value, bin, SensorID, Type, number of elem in bin\n",
    "\n",
    "    for i in range(len(temp)):\n",
    "        data = temp.iloc[i]\n",
    "        bin = int((data.seconds-first_temp)/interval)\n",
    "        n = temp_sync[bin][-1] + 1\n",
    "        new_value = (temp_sync[bin][0] * (n-1) + data.Value)/n # running avg\n",
    "        temp_sync[bin][0] = new_value\n",
    "        temp_sync[bin][1] = bin\n",
    "        temp_sync[bin][2] = int(data.SensorId)\n",
    "        temp_sync[bin][3] = int(data.Type)\n",
    "        temp_sync[bin][4] = n\n",
    "    return temp_sync\n",
    "\n",
    "\n",
    "def delta_max(temp):\n",
    "    # evaluate the maximum time interval between two data\n",
    "    maxT = 0\n",
    "    for i in range(1,len(temp)):\n",
    "        time_now = temp.iloc[i].seconds\n",
    "        time_before = temp.iloc[i-1].seconds\n",
    "        delta = time_now - time_before\n",
    "        if delta > maxT:\n",
    "            maxT = delta\n",
    "    return maxT\n",
    "\n",
    "\n",
    "def interpolate(temp_sync, nbin_left, nbin_right):\n",
    "    # interpolate missing data in rolled up data using the data of K neighbours\n",
    "    # rolled up data referes to the output of rollup function\n",
    "    # nbin_left: number of past data used for interpolation\n",
    "    # nbin_right: number of futur data used for interpolation\n",
    "    for bin in range(len(temp_sync)):\n",
    "        # if no value provided\n",
    "        left_range = max(0, bin-nbin_left)\n",
    "        right_range = min(len(temp_sync), bin+nbin_right)\n",
    "        if temp_sync[bin][-1] == 0:\n",
    "            bins = []\n",
    "            vals = []\n",
    "            sensorId = 0\n",
    "            for n in range(int(left_range), int(right_range)):\n",
    "                if temp_sync[n][-1] != 0:\n",
    "                    bins.append(n)\n",
    "                    vals.append(temp_sync[n][0])\n",
    "                    sensorId = int(temp_sync[n][2])\n",
    "            val_interp = np.interp(bin, bins, vals)\n",
    "            temp_sync[bin][0] = val_interp\n",
    "            temp_sync[bin][1] = bin\n",
    "            temp_sync[bin][2] = sensorId\n",
    "            temp_sync[bin][3] = 0\n",
    "            temp_sync[bin][4] = 1\n",
    "    return temp_sync"
   ]
  },
  {
   "cell_type": "code",
   "execution_count": 84,
   "metadata": {},
   "outputs": [
    {
     "name": "stdout",
     "output_type": "stream",
     "text": [
      "21.595\n"
     ]
    }
   ],
   "source": [
    "delta_max_train = delta_max(temp_train)\n",
    "print(delta_max_train)"
   ]
  },
  {
   "cell_type": "code",
   "execution_count": 72,
   "metadata": {},
   "outputs": [
    {
     "name": "stdout",
     "output_type": "stream",
     "text": [
      "Number of intervals of 30s for sensor 1: 2880\n",
      "Number of intervals of 30s for sensor 24: 2876\n"
     ]
    }
   ],
   "source": [
    "# Create a cleaned temperature vector:\n",
    "# we want one data every interval, this is not always the case in the raw data\n",
    "interval = 30 # seconds\n",
    "nb_sensors = 54\n",
    "temp_sync = [0] * nb_sensors\n",
    "\n",
    "for i in range(nb_sensors):\n",
    "    sensor_id = i + 1 \n",
    "    temp_train_i = temp_train[temp_train.SensorId == sensor_id]\n",
    "    try:\n",
    "        temp_sync[i] = rollup(temp_train_i, interval, day_to_predict-1)\n",
    "    except IndexError:\n",
    "        # if empy data fram\n",
    "        temp_sync[i] = np.zeros((86400//interval, 5))\n",
    "    if sensor_id in sensors_to_predict:\n",
    "        print('Number of intervals of %ds for sensor %d: %d' %(interval, sensor_id, len(temp_sync[i])))"
   ]
  },
  {
   "cell_type": "code",
   "execution_count": 73,
   "metadata": {},
   "outputs": [
    {
     "data": {
      "text/html": [
       "<div>\n",
       "<style>\n",
       "    .dataframe thead tr:only-child th {\n",
       "        text-align: right;\n",
       "    }\n",
       "\n",
       "    .dataframe thead th {\n",
       "        text-align: left;\n",
       "    }\n",
       "\n",
       "    .dataframe tbody tr th {\n",
       "        vertical-align: top;\n",
       "    }\n",
       "</style>\n",
       "<table border=\"1\" class=\"dataframe\">\n",
       "  <thead>\n",
       "    <tr style=\"text-align: right;\">\n",
       "      <th></th>\n",
       "      <th>Value</th>\n",
       "      <th>seconds</th>\n",
       "      <th>SensorId</th>\n",
       "      <th>Type</th>\n",
       "    </tr>\n",
       "  </thead>\n",
       "  <tbody>\n",
       "    <tr>\n",
       "      <th>274756</th>\n",
       "      <td>19.9100</td>\n",
       "      <td>172853.033</td>\n",
       "      <td>4</td>\n",
       "      <td>0</td>\n",
       "    </tr>\n",
       "    <tr>\n",
       "      <th>274793</th>\n",
       "      <td>19.9002</td>\n",
       "      <td>172884.380</td>\n",
       "      <td>4</td>\n",
       "      <td>0</td>\n",
       "    </tr>\n",
       "    <tr>\n",
       "      <th>274978</th>\n",
       "      <td>19.8904</td>\n",
       "      <td>173063.151</td>\n",
       "      <td>4</td>\n",
       "      <td>0</td>\n",
       "    </tr>\n",
       "    <tr>\n",
       "      <th>275039</th>\n",
       "      <td>19.8904</td>\n",
       "      <td>173105.731</td>\n",
       "      <td>4</td>\n",
       "      <td>0</td>\n",
       "    </tr>\n",
       "    <tr>\n",
       "      <th>275064</th>\n",
       "      <td>19.8708</td>\n",
       "      <td>173126.026</td>\n",
       "      <td>4</td>\n",
       "      <td>0</td>\n",
       "    </tr>\n",
       "  </tbody>\n",
       "</table>\n",
       "</div>"
      ],
      "text/plain": [
       "          Value     seconds  SensorId  Type\n",
       "274756  19.9100  172853.033         4     0\n",
       "274793  19.9002  172884.380         4     0\n",
       "274978  19.8904  173063.151         4     0\n",
       "275039  19.8904  173105.731         4     0\n",
       "275064  19.8708  173126.026         4     0"
      ]
     },
     "execution_count": 73,
     "metadata": {},
     "output_type": "execute_result"
    }
   ],
   "source": [
    "temp_train[temp_train.SensorId == 4][:5]"
   ]
  },
  {
   "cell_type": "code",
   "execution_count": 74,
   "metadata": {},
   "outputs": [
    {
     "name": "stdout",
     "output_type": "stream",
     "text": [
      "Sensor 1:\n",
      "[[ 19.3269   0.       1.       0.       2.    ]\n",
      " [  0.       0.       0.       0.       0.    ]\n",
      " [ 19.3416   2.       1.       0.       1.    ]\n",
      " [  0.       0.       0.       0.       0.    ]\n",
      " [ 19.3514   4.       1.       0.       1.    ]\n",
      " [  0.       0.       0.       0.       0.    ]\n",
      " [ 19.322    6.       1.       0.       1.    ]\n",
      " [ 19.322    7.       1.       0.       1.    ]\n",
      " [  0.       0.       0.       0.       0.    ]\n",
      " [  0.       0.       0.       0.       0.    ]]\n",
      "Sensor 24:\n",
      "[[ 19.74666667   0.          24.           0.           3.        ]\n",
      " [ 19.3808       1.          24.           0.           1.        ]\n",
      " [ 19.3808       2.          24.           0.           1.        ]\n",
      " [ 19.3808       3.          24.           0.           1.        ]\n",
      " [ 19.3808       4.          24.           0.           1.        ]\n",
      " [ 19.371        5.          24.           0.           1.        ]\n",
      " [ 19.371        6.          24.           0.           1.        ]\n",
      " [ 19.3612       7.          24.           0.           1.        ]\n",
      " [ 19.3416       8.          24.           0.           1.        ]\n",
      " [ 19.3416       9.          24.           0.           1.        ]]\n"
     ]
    }
   ],
   "source": [
    "print('Sensor 1:')\n",
    "print(temp_sync[0][:10])\n",
    "print('Sensor 24:')\n",
    "print(temp_sync[23][:10])"
   ]
  },
  {
   "cell_type": "code",
   "execution_count": 75,
   "metadata": {},
   "outputs": [
    {
     "name": "stdout",
     "output_type": "stream",
     "text": [
      "Sensor 1:\n",
      "[[ 19.3269    0.        1.        0.        2.     ]\n",
      " [ 19.33425   1.        1.        0.        1.     ]\n",
      " [ 19.3416    2.        1.        0.        1.     ]\n",
      " [ 19.3465    3.        1.        0.        1.     ]\n",
      " [ 19.3514    4.        1.        0.        1.     ]]\n",
      "Sensor 24:\n",
      "[[ 19.74666667   0.          24.           0.           3.        ]\n",
      " [ 19.3808       1.          24.           0.           1.        ]\n",
      " [ 19.3808       2.          24.           0.           1.        ]\n",
      " [ 19.3808       3.          24.           0.           1.        ]\n",
      " [ 19.3808       4.          24.           0.           1.        ]]\n"
     ]
    }
   ],
   "source": [
    "K = 10 # interpolation memory, choose according to interval (and eventually maxT)\n",
    "for i in range(nb_sensors):\n",
    "    try:\n",
    "        temp_sync[i] = interpolate(temp_sync[i], K, K)\n",
    "    except ValueError:\n",
    "        temp_sync[i] = np.empty((0, 0))\n",
    "    \n",
    "print('Sensor 1:')\n",
    "print(temp_sync[0][:5])\n",
    "print('Sensor 24:')\n",
    "print(temp_sync[23][:5])"
   ]
  },
  {
   "cell_type": "code",
   "execution_count": 76,
   "metadata": {
    "collapsed": true
   },
   "outputs": [],
   "source": [
    "producer = KafkaProducer(bootstrap_servers='kafka1:19092,kafka2:29092,kafka3:39092')"
   ]
  },
  {
   "cell_type": "code",
   "execution_count": 77,
   "metadata": {
    "scrolled": true
   },
   "outputs": [
    {
     "ename": "IndexError",
     "evalue": "index 2876 is out of bounds for axis 0 with size 2876",
     "output_type": "error",
     "traceback": [
      "\u001b[0;31m---------------------------------------------------------------------------\u001b[0m",
      "\u001b[0;31mIndexError\u001b[0m                                Traceback (most recent call last)",
      "\u001b[0;32m<ipython-input-77-b559ff06a919>\u001b[0m in \u001b[0;36m<module>\u001b[0;34m()\u001b[0m\n\u001b[1;32m     17\u001b[0m     \u001b[0mtemp_neighbor\u001b[0m \u001b[0;34m=\u001b[0m \u001b[0;34m[\u001b[0m\u001b[0;34m]\u001b[0m\u001b[0;34m\u001b[0m\u001b[0;34m\u001b[0m\u001b[0m\n\u001b[1;32m     18\u001b[0m     \u001b[0;32mfor\u001b[0m \u001b[0mi\u001b[0m \u001b[0;32min\u001b[0m \u001b[0msensors_to_predict\u001b[0m\u001b[0;34m:\u001b[0m\u001b[0;34m\u001b[0m\u001b[0;34m\u001b[0m\u001b[0m\n\u001b[0;32m---> 19\u001b[0;31m         \u001b[0my_bin\u001b[0m \u001b[0;34m=\u001b[0m \u001b[0mtemp_sync\u001b[0m\u001b[0;34m[\u001b[0m\u001b[0mi\u001b[0m\u001b[0;34m-\u001b[0m\u001b[0;36m1\u001b[0m\u001b[0;34m]\u001b[0m\u001b[0;34m[\u001b[0m\u001b[0mbin\u001b[0m\u001b[0;34m]\u001b[0m\u001b[0;34m\u001b[0m\u001b[0;34m\u001b[0m\u001b[0m\n\u001b[0m\u001b[1;32m     20\u001b[0m         \u001b[0;32mfor\u001b[0m \u001b[0mk\u001b[0m \u001b[0;32min\u001b[0m \u001b[0mrange\u001b[0m\u001b[0;34m(\u001b[0m\u001b[0mnb_sensors\u001b[0m\u001b[0;34m)\u001b[0m\u001b[0;34m:\u001b[0m\u001b[0;34m\u001b[0m\u001b[0;34m\u001b[0m\u001b[0m\n\u001b[1;32m     21\u001b[0m             \u001b[0;32mif\u001b[0m \u001b[0;34m(\u001b[0m\u001b[0mtemp_sync\u001b[0m\u001b[0;34m[\u001b[0m\u001b[0mk\u001b[0m\u001b[0;34m]\u001b[0m\u001b[0;34m.\u001b[0m\u001b[0msize\u001b[0m \u001b[0;34m!=\u001b[0m \u001b[0;36m0\u001b[0m\u001b[0;34m)\u001b[0m \u001b[0;32mand\u001b[0m \u001b[0;34m(\u001b[0m\u001b[0mk\u001b[0m\u001b[0;34m+\u001b[0m\u001b[0;36m1\u001b[0m \u001b[0;32mnot\u001b[0m \u001b[0;32min\u001b[0m \u001b[0msensors_to_predict\u001b[0m\u001b[0;34m)\u001b[0m \u001b[0;32mand\u001b[0m \u001b[0;34m(\u001b[0m\u001b[0mlen\u001b[0m\u001b[0;34m(\u001b[0m\u001b[0mtemp_sync\u001b[0m\u001b[0;34m[\u001b[0m\u001b[0mk\u001b[0m\u001b[0;34m]\u001b[0m\u001b[0;34m)\u001b[0m \u001b[0;34m>\u001b[0m \u001b[0mbin\u001b[0m\u001b[0;34m-\u001b[0m\u001b[0;36m1\u001b[0m\u001b[0;34m)\u001b[0m\u001b[0;34m:\u001b[0m\u001b[0;34m\u001b[0m\u001b[0;34m\u001b[0m\u001b[0m\n",
      "\u001b[0;31mIndexError\u001b[0m: index 2876 is out of bounds for axis 0 with size 2876"
     ]
    }
   ],
   "source": [
    "import json\n",
    "# For each temperature measure to predict in sensors_to_predict,\n",
    "# we pick the temperature of all the other sensors in the same 30s window of time\n",
    "# and we send the temperature of each neighboring sensors to estimate the true \n",
    "# temperature of the sensors_to_predict\n",
    "\n",
    "time_resolution = 30 # window of time we use to extract other time-related temperatures\n",
    "interval = 0.5 # waiting interval between the sending of each temperature to predict\n",
    "binTot = 2880\n",
    "\n",
    "step = int(86400/interval) # number of bins in one day\n",
    "start_t = 0 # (n+1)th day\n",
    "end_t = start_t + day_to_predict*step\n",
    "\n",
    "for bin in range(1, binTot):\n",
    "    tic = time.time()\n",
    "    temp_neighbor = []\n",
    "    for i in sensors_to_predict:\n",
    "        y_bin = temp_sync[i-1][bin]\n",
    "        for k in range(nb_sensors):\n",
    "            if (temp_sync[k].size != 0) and (k+1 not in sensors_to_predict) and (len(temp_sync[k]) > bin-1):\n",
    "                temp_neighbor.append((k+1, temp_sync[k][bin-1]))\n",
    "        for x in temp_neighbor:\n",
    "            id_n = x[0]\n",
    "            val_n = x[1]\n",
    "            d = [i, bin, float(y_bin[0]), float(val_n[0]), bin-1, int(id_n), 0]\n",
    "            message = json.dumps(d)\n",
    "            #if bin % 1 == 0:\n",
    "            #    print(message)\n",
    "            producer.send('EMA', message.encode())\n",
    "    toc = time.time() - tic\n",
    "    time.sleep(interval - toc)\n",
    "    \n",
    "    \n",
    "    \n"
   ]
  },
  {
   "cell_type": "code",
   "execution_count": null,
   "metadata": {
    "collapsed": true
   },
   "outputs": [],
   "source": [
    "for iy, ry in temp_sync_y.iterrows():\n",
    "    tic = time.time()\n",
    "    y = ry.Value\n",
    "    bin_y = ry.seconds//time_resolution\n",
    "    temp_neighbor = temp_sync[(temp_sync.seconds//time_resolution == bin_y - 1)  & (~temp_sync.SensorId.isin(sensors_to_predict))]\n",
    "    for ix, rx in temp_neighbor.iterrows():\n",
    "        x = rx.values\n",
    "        message = json.dumps(np.append([ry.SensorId, ry.seconds, y], x).tolist())\n",
    "        if (iy % 1 == 0):\n",
    "            print(message)\n",
    "        producer.send('EMA', message.encode())\n",
    "    toc = time.time() - tic\n",
    "    time.sleep(interval - toc)"
   ]
  }
 ],
 "metadata": {
  "kernelspec": {
   "display_name": "Python 3",
   "language": "python",
   "name": "python3"
  },
  "language_info": {
   "codemirror_mode": {
    "name": "ipython",
    "version": 3
   },
   "file_extension": ".py",
   "mimetype": "text/x-python",
   "name": "python",
   "nbconvert_exporter": "python",
   "pygments_lexer": "ipython3",
   "version": "3.6.7"
  }
 },
 "nbformat": 4,
 "nbformat_minor": 2
}
