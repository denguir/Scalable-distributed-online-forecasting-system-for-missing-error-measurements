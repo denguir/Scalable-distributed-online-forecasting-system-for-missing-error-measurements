{
 "cells": [
  {
   "cell_type": "code",
   "execution_count": 13,
   "metadata": {
    "collapsed": true
   },
   "outputs": [],
   "source": [
    "from kafka import KafkaProducer\n",
    "import time\n",
    "import pandas as pd\n",
    "dataDirectory = '../../data/'"
   ]
  },
  {
   "cell_type": "code",
   "execution_count": 14,
   "metadata": {
    "collapsed": true
   },
   "outputs": [],
   "source": [
    "producer = KafkaProducer(bootstrap_servers='kafka1:19092,kafka2:29092,kafka3:39092')"
   ]
  },
  {
   "cell_type": "code",
   "execution_count": 45,
   "metadata": {},
   "outputs": [],
   "source": [
    "sensorDfs = []\n",
    "sensors = [1,2,3,33,35 ]\n",
    "for day in range(1,8,1):\n",
    "    date = '2017-03-0{0}'.format(day)\n",
    "    dfs = []\n",
    "    for sensor in sensors:\n",
    "        df = pd.read_csv(dataDirectory + date + '_sensor_{0}.csv'.format(sensor),\n",
    "                         dtype={\"measurement\": float, \"voltage\": float})\n",
    "\n",
    "        \n",
    "        dfs.append(df)\n",
    "    df = pd.concat(dfs)\n",
    "    df.sort_values('time', inplace=True)\n",
    "    df['time'] = pd.to_datetime(df['time'])\n",
    "    df.set_index('time', inplace=True)\n",
    "    df.index = df.index.time\n",
    "    sensorDfs.append(df)"
   ]
  },
  {
   "cell_type": "code",
   "execution_count": 49,
   "metadata": {},
   "outputs": [
    {
     "name": "stdout",
     "output_type": "stream",
     "text": [
      "Time to send 9114 measurements (day 1 ) : 0.43648862838745117\n",
      "Time to send 8514 measurements (day 2 ) : 0.4289400577545166\n",
      "Time to send 7827 measurements (day 3 ) : 0.4199485778808594\n",
      "Time to send 7967 measurements (day 4 ) : 0.3884150981903076\n",
      "Time to send 8034 measurements (day 5 ) : 0.3910696506500244\n",
      "Time to send 8099 measurements (day 6 ) : 0.40276646614074707\n",
      "Time to send 8843 measurements (day 7 ) : 0.47673702239990234\n"
     ]
    }
   ],
   "source": [
    "interval=10\n",
    "\n",
    "#For synchronization with receiver (for the sake of the simulation), starts at a number of seconds multiple of 'interval'\n",
    "current_time=time.time()\n",
    "time_to_wait=interval-current_time%interval\n",
    "time.sleep(time_to_wait)\n",
    "for day in range(7):\n",
    "    time_start=time.time()\n",
    "    readings = sensorDfs[day].values.tolist()\n",
    "    for r in readings:\n",
    "        message=str(r)\n",
    "        producer.send('ml',message.encode())\n",
    "    time_to_send=time.time()-time_start\n",
    "    print(\"Time to send \"+str(len(readings))+\" measurements (day \"+str(day+1)+\" ) : \"+str(time_to_send))\n",
    "    time.sleep(interval-time_to_send)"
   ]
  },
  {
   "cell_type": "code",
   "execution_count": 19,
   "metadata": {},
   "outputs": [
    {
     "data": {
      "text/plain": [
       "\"['2017-03-04', '1-0', 20.4294, 2.69964]\""
      ]
     },
     "execution_count": 19,
     "metadata": {},
     "output_type": "execute_result"
    }
   ],
   "source": [
    "message"
   ]
  },
  {
   "cell_type": "code",
   "execution_count": null,
   "metadata": {
    "collapsed": true
   },
   "outputs": [],
   "source": []
  }
 ],
 "metadata": {
  "kernelspec": {
   "display_name": "Python 3",
   "language": "python",
   "name": "python3"
  },
  "language_info": {
   "codemirror_mode": {
    "name": "ipython",
    "version": 3
   },
   "file_extension": ".py",
   "mimetype": "text/x-python",
   "name": "python",
   "nbconvert_exporter": "python",
   "pygments_lexer": "ipython3",
   "version": "3.6.7"
  }
 },
 "nbformat": 4,
 "nbformat_minor": 2
}
