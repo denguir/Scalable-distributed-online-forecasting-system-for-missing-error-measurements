{
 "cells": [
  {
   "cell_type": "markdown",
   "metadata": {},
   "source": [
    "## Sending data to a Kafka server\n",
    "\n",
    "This notebook uses the [Python client for the Apache Kafka distributed stream processing system](http://kafka-python.readthedocs.io/en/master/index.html) to send messages to a Kafka server. \n",
    "\n",
    "* Sensor data is available from https://uv.ulb.ac.be/pluginfile.php/923479/course/section/165902/data.conv.txt.gz\n",
    "* Sensor location is available from https://uv.ulb.ac.be/pluginfile.php/923479/course/section/165902/mote_locs.txt\n",
    "\n",
    "In this example, Kafka is used to send messages containing the temperature data of sensor 1, from the 28/02 to the 06/03.\n",
    "\n",
    "You need to have Kafka and Zookeeper servers running to execut this notebook. If you use the Docker course container, or work on the course cluster, these servers should already be running. Otherwise, you may start them on your machine with\n",
    "\n",
    "```\n",
    "nohup $KAFKA_PATH/bin/zookeeper-server-start.sh $KAFKA_PATH/config/zookeeper.properties  > $HOME/zookeeper.log 2>&1 &\n",
    "nohup $KAFKA_PATH/bin/kafka-server-start.sh $KAFKA_PATH/config/server.properties > $HOME/kafka.log 2>&1 &\n",
    "```\n",
    "\n",
    "where `KAFKA_PATH` points to the folder containing Kafka. See https://kafka.apache.org/quickstart for how to install Kafka on your machine. \n"
   ]
  },
  {
   "cell_type": "markdown",
   "metadata": {},
   "source": [
    "### General import"
   ]
  },
  {
   "cell_type": "code",
   "execution_count": 1,
   "metadata": {
    "collapsed": true
   },
   "outputs": [],
   "source": [
    "from kafka import KafkaProducer\n",
    "import time\n",
    "import pandas as pd\n",
    "import os\n",
    "dataDirectory = '../../data/'"
   ]
  },
  {
   "cell_type": "markdown",
   "metadata": {},
   "source": [
    "### Load measurements, sort by Date/Time, add relative number of seconds since beginning"
   ]
  },
  {
   "cell_type": "code",
   "execution_count": 2,
   "metadata": {
    "collapsed": true
   },
   "outputs": [],
   "source": [
    "\n",
    "#Takes about one minute to load\n",
    "data=pd.read_csv(dataDirectory+\"data.conv.txt.gz\",header=None,sep=\" \")\n",
    "data.columns=[\"Date\",\"Hour\",\"Sensor\",\"Value\",\"Voltage\"]\n",
    "data=data.sort_values(['Date','Hour']).reset_index(drop=True)"
   ]
  },
  {
   "cell_type": "code",
   "execution_count": 3,
   "metadata": {
    "collapsed": true
   },
   "outputs": [],
   "source": [
    "data['datetime']=pd.to_datetime(data.Date+' '+data.Hour)\n",
    "data['relative_datetime']=data['datetime']-data['datetime'][0]\n",
    "data['seconds']=data['relative_datetime'].dt.total_seconds()"
   ]
  },
  {
   "cell_type": "code",
   "execution_count": 4,
   "metadata": {
    "collapsed": true
   },
   "outputs": [],
   "source": [
    "sensorId_type=data.Sensor.str.split(\"-\",expand=True)\n",
    "sensorId_type.columns=['SensorId','Type']\n",
    "data['SensorId']=sensorId_type['SensorId'].astype(int)\n",
    "data['Type']=sensorId_type['Type'].astype(int)\n"
   ]
  },
  {
   "cell_type": "code",
   "execution_count": 5,
   "metadata": {
    "collapsed": true
   },
   "outputs": [],
   "source": [
    "#Drop features not needed for the simulation\n",
    "data=data.drop(['datetime','relative_datetime','Sensor','Date','Hour','Voltage'],axis=1)"
   ]
  },
  {
   "cell_type": "markdown",
   "metadata": {},
   "source": [
    "### Select temperature data from sensor 1"
   ]
  },
  {
   "cell_type": "code",
   "execution_count": 6,
   "metadata": {
    "collapsed": true
   },
   "outputs": [],
   "source": [
    "temp=data[data.Type==0]\n",
    "temp=temp.reset_index(drop=True)\n",
    "sensors_to_predict = [1, 24]\n",
    "temp = temp[temp.SensorId.isin(sensors_to_predict)]"
   ]
  },
  {
   "cell_type": "code",
   "execution_count": 7,
   "metadata": {},
   "outputs": [
    {
     "data": {
      "text/html": [
       "<div>\n",
       "<style>\n",
       "    .dataframe thead tr:only-child th {\n",
       "        text-align: right;\n",
       "    }\n",
       "\n",
       "    .dataframe thead th {\n",
       "        text-align: left;\n",
       "    }\n",
       "\n",
       "    .dataframe tbody tr th {\n",
       "        vertical-align: top;\n",
       "    }\n",
       "</style>\n",
       "<table border=\"1\" class=\"dataframe\">\n",
       "  <thead>\n",
       "    <tr style=\"text-align: right;\">\n",
       "      <th></th>\n",
       "      <th>Value</th>\n",
       "      <th>seconds</th>\n",
       "      <th>SensorId</th>\n",
       "      <th>Type</th>\n",
       "    </tr>\n",
       "  </thead>\n",
       "  <tbody>\n",
       "    <tr>\n",
       "      <th>64</th>\n",
       "      <td>18.1362</td>\n",
       "      <td>53.492</td>\n",
       "      <td>24</td>\n",
       "      <td>0</td>\n",
       "    </tr>\n",
       "    <tr>\n",
       "      <th>79</th>\n",
       "      <td>19.2436</td>\n",
       "      <td>79.124</td>\n",
       "      <td>1</td>\n",
       "      <td>0</td>\n",
       "    </tr>\n",
       "    <tr>\n",
       "      <th>81</th>\n",
       "      <td>18.1166</td>\n",
       "      <td>79.230</td>\n",
       "      <td>24</td>\n",
       "      <td>0</td>\n",
       "    </tr>\n",
       "  </tbody>\n",
       "</table>\n",
       "</div>"
      ],
      "text/plain": [
       "      Value  seconds  SensorId  Type\n",
       "64  18.1362   53.492        24     0\n",
       "79  19.2436   79.124         1     0\n",
       "81  18.1166   79.230        24     0"
      ]
     },
     "execution_count": 7,
     "metadata": {},
     "output_type": "execute_result"
    }
   ],
   "source": [
    "temp[:3]"
   ]
  },
  {
   "cell_type": "code",
   "execution_count": 8,
   "metadata": {},
   "outputs": [
    {
     "data": {
      "text/html": [
       "<div>\n",
       "<style>\n",
       "    .dataframe thead tr:only-child th {\n",
       "        text-align: right;\n",
       "    }\n",
       "\n",
       "    .dataframe thead th {\n",
       "        text-align: left;\n",
       "    }\n",
       "\n",
       "    .dataframe tbody tr th {\n",
       "        vertical-align: top;\n",
       "    }\n",
       "</style>\n",
       "<table border=\"1\" class=\"dataframe\">\n",
       "  <thead>\n",
       "    <tr style=\"text-align: right;\">\n",
       "      <th></th>\n",
       "      <th>Value</th>\n",
       "      <th>seconds</th>\n",
       "      <th>SensorId</th>\n",
       "      <th>Type</th>\n",
       "    </tr>\n",
       "  </thead>\n",
       "  <tbody>\n",
       "    <tr>\n",
       "      <th>2312823</th>\n",
       "      <td>122.153</td>\n",
       "      <td>2858210.912</td>\n",
       "      <td>24</td>\n",
       "      <td>0</td>\n",
       "    </tr>\n",
       "    <tr>\n",
       "      <th>2312826</th>\n",
       "      <td>122.153</td>\n",
       "      <td>2858361.266</td>\n",
       "      <td>24</td>\n",
       "      <td>0</td>\n",
       "    </tr>\n",
       "    <tr>\n",
       "      <th>2312829</th>\n",
       "      <td>122.153</td>\n",
       "      <td>2859509.152</td>\n",
       "      <td>24</td>\n",
       "      <td>0</td>\n",
       "    </tr>\n",
       "  </tbody>\n",
       "</table>\n",
       "</div>"
      ],
      "text/plain": [
       "           Value      seconds  SensorId  Type\n",
       "2312823  122.153  2858210.912        24     0\n",
       "2312826  122.153  2858361.266        24     0\n",
       "2312829  122.153  2859509.152        24     0"
      ]
     },
     "execution_count": 8,
     "metadata": {},
     "output_type": "execute_result"
    }
   ],
   "source": [
    "temp[-3:]"
   ]
  },
  {
   "cell_type": "markdown",
   "metadata": {},
   "source": [
    "### Create  Kafka producer"
   ]
  },
  {
   "cell_type": "code",
   "execution_count": 9,
   "metadata": {
    "collapsed": true
   },
   "outputs": [],
   "source": [
    "producer = KafkaProducer(bootstrap_servers='kafka1:19092,kafka2:29092,kafka3:39092')"
   ]
  },
  {
   "cell_type": "markdown",
   "metadata": {},
   "source": [
    "### Stream data\n",
    "\n",
    "We simulate the streaming of data by sending every five seconds the set of measurements collected during one day. This allows to speed up the simulation (for 8 days - from 28/02/2017 to 7/03/2017: 8*10=80 seconds).\n"
   ]
  },
  {
   "cell_type": "code",
   "execution_count": 11,
   "metadata": {},
   "outputs": [
    {
     "name": "stdout",
     "output_type": "stream",
     "text": [
      "Time to send 7332 measurements (day 0 ) : 1.546046257019043\n",
      "Time to send 3880 measurements (day 1 ) : 0.8735177516937256\n",
      "Time to send 3894 measurements (day 2 ) : 0.8814592361450195\n",
      "Time to send 3610 measurements (day 3 ) : 0.7627971172332764\n",
      "Time to send 3527 measurements (day 4 ) : 0.7448606491088867\n",
      "Time to send 3397 measurements (day 5 ) : 0.7182996273040771\n",
      "Time to send 4315 measurements (day 6 ) : 0.8713796138763428\n",
      "Time to send 4503 measurements (day 7 ) : 0.9391164779663086\n"
     ]
    }
   ],
   "source": [
    "interval=10\n",
    "\n",
    "#Start at relative day 0 (2017-02-28)\n",
    "day=0\n",
    "\n",
    "#For synchronization with receiver (for the sake of the simulation), starts at a number of seconds multiple of 'interval'\n",
    "current_time=time.time()\n",
    "time_to_wait=interval-current_time%interval\n",
    "time.sleep(time_to_wait)\n",
    "\n",
    "#Loop for sending messages to Kafka with the topic persistence\n",
    "for day in range(0,8):\n",
    "    \n",
    "    time_start=time.time()\n",
    "    \n",
    "    #Select sensor measurements for the corresponding relative day\n",
    "    data_current_day=temp[(temp.seconds>=day*86400) & (temp.seconds<(day+1)*86400)]\n",
    "    data_current_day=data_current_day.dropna()\n",
    "    #For all measurements in that hour\n",
    "    for i in range(len(data_current_day)):\n",
    "        #Get data\n",
    "        current_data=list(data_current_day.iloc[i])\n",
    "        #Transform list to string\n",
    "        message=str(current_data)\n",
    "        #Send\n",
    "        producer.send('persistence',message.encode())\n",
    "    \n",
    "    time_to_send=time.time()-time_start\n",
    "    print(\"Time to send \"+str(len(data_current_day))+\" measurements (day \"+str(day)+\" ) : \"+str(time_to_send))\n",
    "\n",
    "    day=day+1\n",
    "    \n",
    "    time.sleep(interval-time_to_send)"
   ]
  },
  {
   "cell_type": "code",
   "execution_count": null,
   "metadata": {
    "collapsed": true
   },
   "outputs": [],
   "source": []
  }
 ],
 "metadata": {
  "kernelspec": {
   "display_name": "Python 3",
   "language": "python",
   "name": "python3"
  },
  "language_info": {
   "codemirror_mode": {
    "name": "ipython",
    "version": 3
   },
   "file_extension": ".py",
   "mimetype": "text/x-python",
   "name": "python",
   "nbconvert_exporter": "python",
   "pygments_lexer": "ipython3",
   "version": "3.6.7"
  }
 },
 "nbformat": 4,
 "nbformat_minor": 1
}
