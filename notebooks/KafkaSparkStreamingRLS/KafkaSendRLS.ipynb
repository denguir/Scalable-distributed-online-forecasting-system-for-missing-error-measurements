{
 "cells": [
  {
   "cell_type": "markdown",
   "metadata": {},
   "source": [
    "## Sending data to Kafka server\n",
    "\n",
    "This notebook uses the [Python client for the Apache Kafka distributed stream processing system](http://kafka-python.readthedocs.io/en/master/index.html) to send messages to a Kafka cluster. \n",
    "\n",
    "In this example, the messages are data generated from a linear model with $n$ input variables, i.e., \n",
    "\n",
    "$$\n",
    "y =x^T \\beta +w\n",
    "$$\n",
    "with $x, \\beta \\in \\mathbb{R}^n$, and $y, w \\in \\mathbb{R}$. $w$ is Gaussian noise.\n",
    "\n",
    "Messages are sent every $interval$ seconds. They are list of size (n+2) where:\n",
    "* First element is the counter \n",
    "* Second element is $y$ \n",
    "* Third to last elements are $x$ values (size $n$)\n"
   ]
  },
  {
   "cell_type": "code",
   "execution_count": 1,
   "metadata": {
    "collapsed": true
   },
   "outputs": [],
   "source": [
    "from kafka import KafkaProducer\n",
    "import time\n",
    "import numpy as np"
   ]
  },
  {
   "cell_type": "code",
   "execution_count": 2,
   "metadata": {
    "collapsed": true
   },
   "outputs": [],
   "source": [
    "producer = KafkaProducer(bootstrap_servers='localhost:9092')"
   ]
  },
  {
   "cell_type": "code",
   "execution_count": 3,
   "metadata": {},
   "outputs": [
    {
     "name": "stdout",
     "output_type": "stream",
     "text": [
      "[ 0.        , 1.82128866, 0.80460298, 0.87849585, 0.48026947, 0.17898136,\n",
      "  0.71436578, 0.1663247 , 0.77874647, 0.27233583, 0.57052258, 0.88531534]\n",
      "[ 1.        , 1.0084517 , 0.8666508 , 0.56909574, 0.06564316, 0.87001053,\n",
      "  0.33795791, 0.85168521, 0.05205318, 0.89993596, 0.43197643, 0.34171379]\n",
      "[  2.00000000e+00,  1.03780253e+00,  3.90156376e-01,  5.81695036e-01,\n",
      "   3.16963443e-01,  7.22511631e-05,  9.56957024e-01,  2.86770462e-01,\n",
      "   4.66086592e-01,  7.26628195e-01,  3.52144002e-04,  4.47089029e-01]\n",
      "[ 3.        , 0.89182453, 0.25090029, 0.47831182, 0.92472072, 0.01010476,\n",
      "  0.49340014, 0.13571646, 0.19981978, 0.82084886, 0.31358103, 0.31511077]\n",
      "[ 4.        , 0.30630941, 0.01752224, 0.07005688, 0.27223691, 0.04537585,\n",
      "  0.57442912, 0.934162  , 0.01121488, 0.42962264, 0.21688714, 0.21086013]\n",
      "[ 5.        , 0.76541232, 0.59459296, 0.44099709, 0.15816656, 0.79801174,\n",
      "  0.68341212, 0.63416677, 0.96934489, 0.87671905, 0.24152611, 0.29054036]\n",
      "[ 6.        , 0.4375791 , 0.31007791, 0.22279192, 0.88464616, 0.24443507,\n",
      "  0.8618636 , 0.81456561, 0.64140088, 0.29605755, 0.59115075, 0.15977374]\n",
      "[ 7.        , 1.48444062, 0.36219887, 0.95349004, 0.07615703, 0.51753326,\n",
      "  0.18099942, 0.39183605, 0.8857944 , 0.41678571, 0.8180345 , 0.48168923]\n",
      "[ 8.        , 0.92779692, 0.65449074, 0.1430034 , 0.27555026, 0.41386292,\n",
      "  0.35777143, 0.41819976, 0.00906815, 0.99445171, 0.60274973, 0.69808187]\n",
      "[ 9.        , 1.43606084, 0.83463592, 0.73767223, 0.6685175 , 0.53881059,\n",
      "  0.92539939, 0.75990436, 0.62435071, 0.40222597, 0.73945447, 0.64321947]\n",
      "[ 10.        ,  1.25461819,  0.08236477,  0.68161412,  0.7881113 ,\n",
      "   0.2878773 ,  0.17195206,  0.64575878,  0.67920132,  0.04104403,\n",
      "   0.56518483,  0.49896362]\n",
      "[ 11.        ,  1.61819842,  0.03319552,  0.90572031,  0.56264855,\n",
      "   0.68218779,  0.21669158,  0.57358764,  0.80506822,  0.43640681,\n",
      "   0.74931096,  0.67131742]\n",
      "[ 12.        ,  1.85993802,  0.16388396,  0.91039135,  0.05048426,\n",
      "   0.32215852,  0.97700679,  0.26831015,  0.61301692,  0.73571711,\n",
      "   0.33739552,  0.90802687]\n"
     ]
    },
    {
     "ename": "KeyboardInterrupt",
     "evalue": "",
     "output_type": "error",
     "traceback": [
      "\u001b[0;31m---------------------------------------------------------------------------\u001b[0m",
      "\u001b[0;31mKeyboardInterrupt\u001b[0m                         Traceback (most recent call last)",
      "\u001b[0;32m<ipython-input-3-e033fc78d1cd>\u001b[0m in \u001b[0;36m<module>\u001b[0;34m()\u001b[0m\n\u001b[1;32m     18\u001b[0m     \u001b[0mproducer\u001b[0m\u001b[0;34m.\u001b[0m\u001b[0msend\u001b[0m\u001b[0;34m(\u001b[0m\u001b[0;34m'dataLinearModel'\u001b[0m\u001b[0;34m,\u001b[0m \u001b[0mmessage\u001b[0m\u001b[0;34m.\u001b[0m\u001b[0mencode\u001b[0m\u001b[0;34m(\u001b[0m\u001b[0;34m)\u001b[0m\u001b[0;34m)\u001b[0m\u001b[0;34m\u001b[0m\u001b[0m\n\u001b[1;32m     19\u001b[0m     \u001b[0mi\u001b[0m\u001b[0;34m=\u001b[0m\u001b[0mi\u001b[0m\u001b[0;34m+\u001b[0m\u001b[0;36m1\u001b[0m\u001b[0;34m\u001b[0m\u001b[0m\n\u001b[0;32m---> 20\u001b[0;31m     \u001b[0mtime\u001b[0m\u001b[0;34m.\u001b[0m\u001b[0msleep\u001b[0m\u001b[0;34m(\u001b[0m\u001b[0;36m1\u001b[0m\u001b[0;34m)\u001b[0m\u001b[0;34m\u001b[0m\u001b[0m\n\u001b[0m\u001b[1;32m     21\u001b[0m \u001b[0;34m\u001b[0m\u001b[0m\n",
      "\u001b[0;31mKeyboardInterrupt\u001b[0m: "
     ]
    }
   ],
   "source": [
    "i=0 #Initialise counter\n",
    "\n",
    "n=10   # number of inputs\n",
    "\n",
    "beta=np.zeros(n) ## first and last parameters are 1, others are zeros\n",
    "beta[1]=1   \n",
    "beta[-1]=1\n",
    "beta.shape=(n,1)\n",
    "\n",
    "\n",
    "#Loop for sending messages to Kafka with the topic dataLinearModel\n",
    "\n",
    "while True:\n",
    "    x=np.random.rand(1,n)[0]\n",
    "    y=float(x.dot(beta))+0.1*np.random.rand(1)[0] ## y =x^T beta +w\n",
    "    message=np.array2string(np.append([i,y],x),separator=\",\") \n",
    "    print(message)\n",
    "    producer.send('dataLinearModel', message.encode())\n",
    "    i=i+1\n",
    "    time.sleep(1)\n",
    "    "
   ]
  },
  {
   "cell_type": "code",
   "execution_count": null,
   "metadata": {
    "collapsed": true
   },
   "outputs": [],
   "source": []
  }
 ],
 "metadata": {
  "kernelspec": {
   "display_name": "Python 3",
   "language": "python",
   "name": "python3"
  },
  "language_info": {
   "codemirror_mode": {
    "name": "ipython",
    "version": 3
   },
   "file_extension": ".py",
   "mimetype": "text/x-python",
   "name": "python",
   "nbconvert_exporter": "python",
   "pygments_lexer": "ipython3",
   "version": "3.6.1"
  }
 },
 "nbformat": 4,
 "nbformat_minor": 1
}
