{
 "cells": [
  {
   "cell_type": "markdown",
   "metadata": {},
   "source": [
    "## Sending data to Kafka server\n",
    "\n",
    "This notebook uses the [Python client for the Apache Kafka distributed stream processing system](http://kafka-python.readthedocs.io/en/master/index.html) to send messages to a Kafka cluster. \n",
    "\n",
    "In this example, the messages are data generated from a linear model with $n$ input variables, i.e., \n",
    "\n",
    "$$\n",
    "y =x^T \\beta +w\n",
    "$$\n",
    "with $x, \\beta \\in \\mathbb{R}^n$, and $y, w \\in \\mathbb{R}$. $w$ is Gaussian noise.\n",
    "\n",
    "Messages are sent every $interval$ seconds. They are list of size (n+2) where:\n",
    "* First element is the counter \n",
    "* Second element is $y$ \n",
    "* Third to last elements are $x$ values (size $n$)\n"
   ]
  },
  {
   "cell_type": "code",
   "execution_count": null,
   "metadata": {
    "collapsed": true
   },
   "outputs": [],
   "source": [
    "from kafka import KafkaProducer\n",
    "import time\n",
    "import numpy as np"
   ]
  },
  {
   "cell_type": "code",
   "execution_count": null,
   "metadata": {
    "collapsed": true
   },
   "outputs": [],
   "source": [
    "producer = KafkaProducer(bootstrap_servers='kafka1:19092,kafka2:29092,kafka3:39092')"
   ]
  },
  {
   "cell_type": "code",
   "execution_count": null,
   "metadata": {},
   "outputs": [],
   "source": [
    "i=0 #Initialise counter\n",
    "\n",
    "n=10   # number of inputs\n",
    "\n",
    "beta=np.zeros(n) ## first and last parameters are 1, others are zeros\n",
    "beta[1]=1   \n",
    "beta[-1]=1\n",
    "beta.shape=(n,1)\n",
    "\n",
    "\n",
    "#Loop for sending messages to Kafka with the topic dataLinearModel\n",
    "\n",
    "while True:\n",
    "    x=np.random.rand(1,n)[0]\n",
    "    y=float(x.dot(beta))+0.1*np.random.rand(1)[0] ## y =x^T beta +w\n",
    "    message=np.array2string(np.append([i,y],x),separator=\",\") \n",
    "    print(message)\n",
    "    producer.send('dataLinearModel', message.encode())\n",
    "    i=i+1\n",
    "    time.sleep(1)"
   ]
  },
  {
   "cell_type": "code",
   "execution_count": null,
   "metadata": {
    "collapsed": true
   },
   "outputs": [],
   "source": []
  }
 ],
 "metadata": {
  "kernelspec": {
   "display_name": "Python 3",
   "language": "python",
   "name": "python3"
  },
  "language_info": {
   "codemirror_mode": {
    "name": "ipython",
    "version": 3
   },
   "file_extension": ".py",
   "mimetype": "text/x-python",
   "name": "python",
   "nbconvert_exporter": "python",
   "pygments_lexer": "ipython3",
   "version": "3.6.7"
  }
 },
 "nbformat": 4,
 "nbformat_minor": 1
}
