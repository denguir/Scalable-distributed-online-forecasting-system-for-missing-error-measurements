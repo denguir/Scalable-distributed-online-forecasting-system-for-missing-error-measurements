{
 "cells": [
  {
   "cell_type": "markdown",
   "metadata": {},
   "source": [
    "## Recursive Least Square with Kafka and Spark streaming \n",
    "\n",
    "This notebook provides an example for estimating the coefficients of a linear model on streaming data coming from a Kafka producer. The coefficient estimation is achieved using the recursive least square (RLS) algorithm, using two different RLS models in parallel (with different forgetting factors).\n",
    "\n",
    "The linear model has 10 parameters, with coefficients [1,0,0,0,0,0,0,0,0,1] (see notebook KafkaSendRLS).\n",
    "\n",
    "This notebook uses \n",
    "* the [Python client for the Apache Kafka distributed stream processing system](http://kafka-python.readthedocs.io/en/master/index.html) to receive messages from a Kafka cluster. \n",
    "* [Spark streaming](https://spark.apache.org/docs/latest/streaming-programming-guide.html) for processing the streaming data\n",
    "\n"
   ]
  },
  {
   "cell_type": "markdown",
   "metadata": {},
   "source": [
    "### General import"
   ]
  },
  {
   "cell_type": "code",
   "execution_count": 1,
   "metadata": {
    "collapsed": true
   },
   "outputs": [],
   "source": [
    "import time\n",
    "import re, ast\n",
    "import numpy as np\n",
    "import os"
   ]
  },
  {
   "cell_type": "markdown",
   "metadata": {},
   "source": [
    "### Start Spark session\n"
   ]
  },
  {
   "cell_type": "code",
   "execution_count": 2,
   "metadata": {
    "collapsed": true,
    "scrolled": true
   },
   "outputs": [],
   "source": [
    "from pyspark.sql import SparkSession\n",
    "from pyspark.streaming import StreamingContext\n",
    "from pyspark.streaming.kafka import KafkaUtils\n",
    "\n",
    "os.environ['PYSPARK_SUBMIT_ARGS'] = '--conf spark.ui.port=4040 '+\\\n",
    "                                '--packages org.apache.spark:spark-streaming-kafka-0-8_2.11:2.2.1 '+\\\n",
    "                                '--conf spark.driver.memory=2g  pyspark-shell'\n",
    "\n",
    "spark = SparkSession \\\n",
    "    .builder \\\n",
    "    .master(\"local[2]\") \\\n",
    "    .appName(\"KafkaReceive\") \\\n",
    "    .getOrCreate()"
   ]
  },
  {
   "cell_type": "markdown",
   "metadata": {
    "collapsed": true
   },
   "source": [
    "### Connect to Kafka cluster on topic dataLinearModel"
   ]
  },
  {
   "cell_type": "code",
   "execution_count": 3,
   "metadata": {
    "collapsed": true
   },
   "outputs": [],
   "source": [
    "#This function creates a connection to a Kafka stream\n",
    "#You may change the topic, or batch interval\n",
    "#The Zookeeper server is assumed to be running at 127.0.0.1:2181\n",
    "#The function returns the Spark context, Spark streaming context, and DStream object\n",
    "def getKafkaDStream(spark,topic='persistence',batch_interval=10):\n",
    "\n",
    "    #Get Spark context\n",
    "    sc=spark.sparkContext\n",
    "\n",
    "    #Create streaming context, with required batch interval\n",
    "    ssc = StreamingContext(sc, batch_interval)\n",
    "\n",
    "    #Checkpointing needed for stateful transforms\n",
    "    ssc.checkpoint(\"checkpoint\")\n",
    "    \n",
    "    #Create a DStream that represents streaming data from Kafka, for the required topic \n",
    "    dstream = KafkaUtils.createStream(ssc, \"127.0.0.1:2181\", \"spark-streaming-consumer\", {topic: 1})\n",
    "    \n",
    "    return [sc,ssc,dstream]\n"
   ]
  },
  {
   "cell_type": "code",
   "execution_count": 4,
   "metadata": {
    "collapsed": true
   },
   "outputs": [],
   "source": [
    "def updateFunction(new_values, state): \n",
    "    ## RLS update function\n",
    "    ## Only update with first value of RDD. You should transofrm new_values to array, and update models for all values \n",
    "    if (len(new_values)>0 ):\n",
    "        \n",
    "        key=new_values[0][0]\n",
    "        yx=new_values[0][1]\n",
    "        i=yx[0]\n",
    "        y=yx[1]\n",
    "        x=yx[2:]\n",
    "        n=len(x)\n",
    "        \n",
    "        beta=state[1]\n",
    "        beta.shape=(n,1)\n",
    "        V=state[2]\n",
    "        mu=state[3]\n",
    "        sse=state[4]  ## sum of squared errors\n",
    "        N=state[5]   ## number of treated samples\n",
    "        x.shape=(1,n)\n",
    "        err=y-x.dot(beta)\n",
    "        sse=sse+pow(err,2.0)\n",
    "        V=1.0/mu*(V-V.dot(x.T).dot(x).dot(V)/(1.0+float(x.dot(V).dot(x.T))))\n",
    "        gamma=V.dot(x.T)\n",
    "        beta=beta+gamma*err\n",
    "        \n",
    "        return (key,beta,V,mu,sse/(N+1.0),N+1)  ## update formula mod1\n",
    "        \n",
    "    else:\n",
    "        return state"
   ]
  },
  {
   "cell_type": "markdown",
   "metadata": {},
   "source": [
    "### Define streaming pipeline\n",
    "\n",
    "* We define a stream with two states, for updating two RLS models in paralell. Each state contains a state of variables to keep the state of the model, as well as to keep track of MSE estimates. A state is a list of 5 elements:\n",
    "    * The first three are beta, V and mu, and define the state of the model (see RLS formulas in course)\n",
    "    * The last two are an estimate of the MSE of the model, and the number of treated samples \n",
    "* We create a DStream, flat map with the sensor ID as key, update state for the stream, and save MSE"
   ]
  },
  {
   "cell_type": "code",
   "execution_count": 5,
   "metadata": {},
   "outputs": [],
   "source": [
    "import re, ast\n",
    "\n",
    "n=10 # number of features\n",
    "\n",
    "beta1=np.zeros(n)  ## initial parameter vector for model 1\n",
    "V1=np.diag(np.zeros(n)+10) ## initial covariance matrix for model 1\n",
    "mu1=1.0 # forgetting factor for model 1\n",
    "\n",
    "state1=('mod1',beta1,V1,mu1,0,0)\n",
    "\n",
    "beta2=np.zeros(n)  ## initial parameter vector for model 2\n",
    "V2=np.diag(np.zeros(n)+1) ## initial covariance matrix for model 2\n",
    "mu2=0.99 # forgetting factor for model 2\n",
    "\n",
    "state2=('mod2',beta2,V2,mu2,0,0)\n",
    "\n",
    "[sc,ssc,dstream]=getKafkaDStream(spark=spark,topic='dataLinearModel',batch_interval=1)\n",
    "\n",
    "#Evaluate input (a list - see KafkaSendRLS notebook)\n",
    "dstream = dstream.map(lambda x: np.array(ast.literal_eval(x[1])))\n",
    "#dstream.pprint()\n",
    "\n",
    "dstream=dstream.flatMap(lambda x: [('mod1',('mod1',1.0*np.array(x))),\n",
    "                            ('mod2',('mod2',1.0*np.array(x)))])\n",
    "#dstream.pprint()\n",
    "\n",
    "initialStateRDD = sc.parallelize([(u'mod1', state1),\n",
    "                                  (u'mod2', state2)])\n",
    "\n",
    "dstream=dstream.updateStateByKey(updateFunction,initialRDD=initialStateRDD)\n",
    "\n",
    "#Only display beta and error\n",
    "#beta should converge to [1,0,0,0,0,0,0,0,0,1] (send KafkaSend notebook)\n",
    "dstream.map(lambda x: x[1][0:2]+x[1][4:6]).pprint()\n",
    "#dstream.pprint()"
   ]
  },
  {
   "cell_type": "markdown",
   "metadata": {},
   "source": [
    "### Start streaming application"
   ]
  },
  {
   "cell_type": "code",
   "execution_count": 6,
   "metadata": {},
   "outputs": [
    {
     "name": "stdout",
     "output_type": "stream",
     "text": [
      "-------------------------------------------\n",
      "Time: 2018-04-11 10:24:24\n",
      "-------------------------------------------\n",
      "('mod1', array([ 0.,  0.,  0.,  0.,  0.,  0.,  0.,  0.,  0.,  0.]), 0, 0)\n",
      "('mod2', array([ 0.,  0.,  0.,  0.,  0.,  0.,  0.,  0.,  0.,  0.]), 0, 0)\n",
      "\n",
      "-------------------------------------------\n",
      "Time: 2018-04-11 10:24:25\n",
      "-------------------------------------------\n",
      "('mod1', array([ 0.,  0.,  0.,  0.,  0.,  0.,  0.,  0.,  0.,  0.]), 0, 0)\n",
      "('mod2', array([ 0.,  0.,  0.,  0.,  0.,  0.,  0.,  0.,  0.,  0.]), 0, 0)\n",
      "\n",
      "-------------------------------------------\n",
      "Time: 2018-04-11 10:24:26\n",
      "-------------------------------------------\n",
      "('mod1', array([[ 0.07345426],\n",
      "       [ 0.17443528],\n",
      "       [ 0.10719983],\n",
      "       [ 0.2122113 ],\n",
      "       [ 0.18384878],\n",
      "       [ 0.19141452],\n",
      "       [ 0.01971397],\n",
      "       [ 0.24240384],\n",
      "       [ 0.1413216 ],\n",
      "       [ 0.06929117]]), array([[ 1.03321559]]), 1)\n",
      "('mod2', array([[ 0.06080198],\n",
      "       [ 0.14438931],\n",
      "       [ 0.08873497],\n",
      "       [ 0.17565852],\n",
      "       [ 0.15218136],\n",
      "       [ 0.15844392],\n",
      "       [ 0.0163183 ],\n",
      "       [ 0.20065048],\n",
      "       [ 0.11697936],\n",
      "       [ 0.05735597]]), array([[ 1.03321559]]), 1)\n",
      "\n",
      "-------------------------------------------\n",
      "Time: 2018-04-11 10:24:27\n",
      "-------------------------------------------\n",
      "('mod1', array([[  1.54841113e-01],\n",
      "       [  4.14393170e-01],\n",
      "       [ -2.67458553e-04],\n",
      "       [  1.82877196e-01],\n",
      "       [  2.47386913e-02],\n",
      "       [  1.27461750e-01],\n",
      "       [  4.35892294e-01],\n",
      "       [  1.21696811e-01],\n",
      "       [  3.58504329e-01],\n",
      "       [  2.16082038e-01]]), array([[ 0.83482427]]), 2)\n",
      "('mod2', array([[ 0.12597434],\n",
      "       [ 0.32976916],\n",
      "       [ 0.035496  ],\n",
      "       [ 0.19053032],\n",
      "       [ 0.07739836],\n",
      "       [ 0.1472732 ],\n",
      "       [ 0.29238207],\n",
      "       [ 0.16046003],\n",
      "       [ 0.2821031 ],\n",
      "       [ 0.16474579]]), array([[ 0.93617695]]), 2)\n",
      "\n",
      "-------------------------------------------\n",
      "Time: 2018-04-11 10:24:28\n",
      "-------------------------------------------\n",
      "('mod1', array([[ 0.21911573],\n",
      "       [ 0.35558471],\n",
      "       [-0.00093349],\n",
      "       [ 0.15654323],\n",
      "       [ 0.00576319],\n",
      "       [ 0.11150023],\n",
      "       [ 0.41668206],\n",
      "       [ 0.1718512 ],\n",
      "       [ 0.38265983],\n",
      "       [ 0.28665272]]), array([[ 0.28457884]]), 3)\n",
      "('mod2', array([[ 0.16357293],\n",
      "       [ 0.29962214],\n",
      "       [ 0.04032596],\n",
      "       [ 0.18357241],\n",
      "       [ 0.07532314],\n",
      "       [ 0.1458788 ],\n",
      "       [ 0.27668985],\n",
      "       [ 0.19876614],\n",
      "       [ 0.29771638],\n",
      "       [ 0.20485751]]), array([[ 0.32203649]]), 3)\n",
      "\n"
     ]
    }
   ],
   "source": [
    "ssc.start()"
   ]
  },
  {
   "cell_type": "markdown",
   "metadata": {},
   "source": [
    "### Stop streaming"
   ]
  },
  {
   "cell_type": "code",
   "execution_count": 7,
   "metadata": {},
   "outputs": [
    {
     "name": "stdout",
     "output_type": "stream",
     "text": [
      "-------------------------------------------\n",
      "Time: 2018-04-11 10:24:29\n",
      "-------------------------------------------\n",
      "('mod1', array([[ 0.22694852],\n",
      "       [ 0.35408383],\n",
      "       [ 0.00752181],\n",
      "       [ 0.15257772],\n",
      "       [ 0.01549361],\n",
      "       [ 0.11455939],\n",
      "       [ 0.41975984],\n",
      "       [ 0.16142979],\n",
      "       [ 0.38114068],\n",
      "       [ 0.28878947]]), array([[ 0.07124946]]), 4)\n",
      "('mod2', array([[ 0.1937677 ],\n",
      "       [ 0.30240471],\n",
      "       [ 0.07113931],\n",
      "       [ 0.17484219],\n",
      "       [ 0.11190291],\n",
      "       [ 0.16065204],\n",
      "       [ 0.29383222],\n",
      "       [ 0.16671696],\n",
      "       [ 0.29899335],\n",
      "       [ 0.21592691]]), array([[ 0.0875207]]), 4)\n",
      "\n"
     ]
    }
   ],
   "source": [
    "ssc.stop(stopSparkContext=False,stopGraceFully=False)"
   ]
  },
  {
   "cell_type": "code",
   "execution_count": null,
   "metadata": {
    "collapsed": true
   },
   "outputs": [],
   "source": []
  }
 ],
 "metadata": {
  "kernelspec": {
   "display_name": "Python 3",
   "language": "python",
   "name": "python3"
  },
  "language_info": {
   "codemirror_mode": {
    "name": "ipython",
    "version": 3
   },
   "file_extension": ".py",
   "mimetype": "text/x-python",
   "name": "python",
   "nbconvert_exporter": "python",
   "pygments_lexer": "ipython3",
   "version": "3.6.1"
  }
 },
 "nbformat": 4,
 "nbformat_minor": 1
}
