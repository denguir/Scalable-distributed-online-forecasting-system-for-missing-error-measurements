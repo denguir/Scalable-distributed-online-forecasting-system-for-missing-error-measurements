{
 "cells": [
  {
   "cell_type": "code",
   "execution_count": 1,
   "metadata": {
    "collapsed": true
   },
   "outputs": [],
   "source": [
    "import time\n",
    "import re, ast\n",
    "import numpy as np\n",
    "import os\n",
    "import pandas as pd\n",
    "import findspark\n",
    "findspark.init()"
   ]
  },
  {
   "cell_type": "code",
   "execution_count": 2,
   "metadata": {
    "collapsed": true
   },
   "outputs": [],
   "source": [
    "from pyspark.sql import SparkSession\n",
    "from pyspark.streaming import StreamingContext\n",
    "from pyspark.streaming.kafka import KafkaUtils\n",
    "\n",
    "os.environ['PYSPARK_SUBMIT_ARGS'] = '--master local[*] pyspark-shell'\n",
    "\n",
    "spark = SparkSession \\\n",
    "    .builder \\\n",
    "    .master(\"local[*]\") \\\n",
    "    .appName(\"KafkaReceive\") \\\n",
    "    .getOrCreate()"
   ]
  },
  {
   "cell_type": "code",
   "execution_count": 3,
   "metadata": {},
   "outputs": [
    {
     "data": {
      "text/plain": [
       "0    2\n",
       "Name: ClusterId, dtype: int64"
      ]
     },
     "execution_count": 3,
     "metadata": {},
     "output_type": "execute_result"
    }
   ],
   "source": [
    "from sklearn.cluster import KMeans\n",
    "locs = pd.read_csv(\"../../data/mote_locs.txt\", header=None, sep=\" \")\n",
    "locs.columns = [\"SensorId\", \"X\", \"Y\"]\n",
    "ids = locs.values[:, 0]\n",
    "pos = locs.values[:, 1:]\n",
    "\n",
    "kmeans = KMeans(n_clusters=5, random_state=0).fit(pos)\n",
    "labels = np.vstack((ids, kmeans.labels_)).T.astype(int)\n",
    "clusters = pd.DataFrame({'SensorId': labels[:,0], 'ClusterId': labels[:,1]})\n",
    "\n",
    "clusters.loc[clusters.SensorId==1].ClusterId"
   ]
  },
  {
   "cell_type": "code",
   "execution_count": 4,
   "metadata": {},
   "outputs": [
    {
     "name": "stdout",
     "output_type": "stream",
     "text": [
      "    ClusterId  SensorId\n",
      "0           2         1\n",
      "23          4        24\n"
     ]
    }
   ],
   "source": [
    "# sensor to predict\n",
    "sensors_to_predict = [1, 24]\n",
    "target_cluster = clusters[clusters.SensorId.isin(sensors_to_predict)]\n",
    "print(target_cluster)"
   ]
  },
  {
   "cell_type": "code",
   "execution_count": 5,
   "metadata": {
    "collapsed": true
   },
   "outputs": [],
   "source": [
    "#This function creates a connection to a Kafka stream\n",
    "#You may change the topic, or batch interval\n",
    "#The Zookeeper server is assumed to be running at 127.0.0.1:2181\n",
    "#The function returns the Spark context, Spark streaming context, and DStream object\n",
    "def getKafkaDStream(spark,topic='persistence',batch_interval=10):\n",
    "\n",
    "    #Get Spark context\n",
    "    sc=spark.sparkContext\n",
    "\n",
    "    #Create streaming context, with required batch interval\n",
    "    ssc = StreamingContext(sc, batch_interval)\n",
    "\n",
    "    #Checkpointing needed for stateful transforms\n",
    "    ssc.checkpoint(\"checkpoint\")\n",
    "    \n",
    "    #Create a DStream that represents streaming data from Kafka, for the required topic \n",
    "    dstream = KafkaUtils.createStream(ssc, \"zoo1:2181,zoo2:2181,zoo3:2181\", \"spark-streaming-consumer\", {topic: 1})\n",
    "    \n",
    "    return [sc,ssc,dstream]"
   ]
  },
  {
   "cell_type": "code",
   "execution_count": 6,
   "metadata": {
    "collapsed": true
   },
   "outputs": [],
   "source": [
    "#Save state in global Python variable\n",
    "def saveState(rdd):\n",
    "    global state_global\n",
    "    if rdd is not None:\n",
    "        data=rdd.collect()\n",
    "        state_global.append(data)\n",
    "        \n",
    "def printInfoRDD(rdd):\n",
    "    #clear_output(wait=True)\n",
    "    if rdd is not None:\n",
    "        print(\"The RDD has \"+str(rdd.getNumPartitions())+\" partitions\")\n",
    "        print(\"The RDD has \"+str(rdd.count())+\" elements\")\n",
    "    else:\n",
    "        print(\"No info to provide\")"
   ]
  },
  {
   "cell_type": "code",
   "execution_count": 11,
   "metadata": {
    "collapsed": true
   },
   "outputs": [],
   "source": [
    "def updateEMA(new_value, state):\n",
    "    # new_value = (x, y_true, time_y, y_id) where x in avg temp in cluster\n",
    "    # state = (alpha, EMA, MSSE, N, err2, y_true, y_time, y_id)\n",
    "    if len(new_value) > 0:\n",
    "        x = new_value[0][0]\n",
    "        y_true = new_value[0][1]\n",
    "        y_time = new_value[0][2]\n",
    "        y_id = new_value[0][3]\n",
    "        \n",
    "        alpha = state[0]\n",
    "        EMA = state[1]\n",
    "        EMA = alpha*x + (1-alpha)*EMA # exp. moving avg\n",
    "        N = state[3]\n",
    "        SSE = state[2] * N\n",
    "        try:\n",
    "            err = y_true - EMA      \n",
    "            SSE = SSE + pow(err,2)\n",
    "            N += 1\n",
    "        except TypeError:\n",
    "            print('y_true is not valid type')\n",
    "            \n",
    "        return (alpha, EMA, SSE/N, N, err**2, y_true, y_time, y_id)\n",
    "    else:\n",
    "        return state"
   ]
  },
  {
   "cell_type": "code",
   "execution_count": 24,
   "metadata": {},
   "outputs": [
    {
     "name": "stdout",
     "output_type": "stream",
     "text": [
      "http://opentsdb:4242\n",
      "Sending the partition\n",
      "[[{'metric': 'temperature.prediction', 'timestamp': 0, 'value': 20, 'tags': {'space': 24, 'municipality': 4, 'city': 'Brussels'}}, {'metric': 'temperature.truth', 'timestamp': 0, 'value': 20, 'tags': {'space': 24, 'municipality': 4, 'city': 'Brussels'}}, {'metric': 'temperature.error', 'timestamp': 0, 'value': 0, 'tags': {'space': 24, 'municipality': 4, 'city': 'Brussels'}}], [{'metric': 'temperature.prediction', 'timestamp': 0, 'value': 20, 'tags': {'space': 1, 'municipality': 2, 'city': 'Brussels'}}, {'metric': 'temperature.truth', 'timestamp': 0, 'value': 20, 'tags': {'space': 1, 'municipality': 2, 'city': 'Brussels'}}, {'metric': 'temperature.error', 'timestamp': 0, 'value': 0, 'tags': {'space': 1, 'municipality': 2, 'city': 'Brussels'}}]]\n",
      "400\n",
      "Sending the partition\n",
      "[[{'metric': 'temperature.prediction', 'timestamp': 0, 'value': 20, 'tags': {'space': 24, 'municipality': 4, 'city': 'Brussels'}}, {'metric': 'temperature.truth', 'timestamp': 0, 'value': 20, 'tags': {'space': 24, 'municipality': 4, 'city': 'Brussels'}}, {'metric': 'temperature.error', 'timestamp': 0, 'value': 0, 'tags': {'space': 24, 'municipality': 4, 'city': 'Brussels'}}], [{'metric': 'temperature.prediction', 'timestamp': 0, 'value': 20, 'tags': {'space': 1, 'municipality': 2, 'city': 'Brussels'}}, {'metric': 'temperature.truth', 'timestamp': 0, 'value': 20, 'tags': {'space': 1, 'municipality': 2, 'city': 'Brussels'}}, {'metric': 'temperature.error', 'timestamp': 0, 'value': 0, 'tags': {'space': 1, 'municipality': 2, 'city': 'Brussels'}}]]\n",
      "400\n",
      "Sending the partition\n",
      "[[{'metric': 'temperature.prediction', 'timestamp': 0, 'value': 20, 'tags': {'space': 24, 'municipality': 4, 'city': 'Brussels'}}, {'metric': 'temperature.truth', 'timestamp': 0, 'value': 20, 'tags': {'space': 24, 'municipality': 4, 'city': 'Brussels'}}, {'metric': 'temperature.error', 'timestamp': 0, 'value': 0, 'tags': {'space': 24, 'municipality': 4, 'city': 'Brussels'}}], [{'metric': 'temperature.prediction', 'timestamp': 0, 'value': 20, 'tags': {'space': 1, 'municipality': 2, 'city': 'Brussels'}}, {'metric': 'temperature.truth', 'timestamp': 0, 'value': 20, 'tags': {'space': 1, 'municipality': 2, 'city': 'Brussels'}}, {'metric': 'temperature.error', 'timestamp': 0, 'value': 0, 'tags': {'space': 1, 'municipality': 2, 'city': 'Brussels'}}]]\n",
      "400\n",
      "Sending the partition\n",
      "[[{'metric': 'temperature.prediction', 'timestamp': 0, 'value': 20, 'tags': {'space': 24, 'municipality': 4, 'city': 'Brussels'}}, {'metric': 'temperature.truth', 'timestamp': 0, 'value': 20, 'tags': {'space': 24, 'municipality': 4, 'city': 'Brussels'}}, {'metric': 'temperature.error', 'timestamp': 0, 'value': 0, 'tags': {'space': 24, 'municipality': 4, 'city': 'Brussels'}}], [{'metric': 'temperature.prediction', 'timestamp': 0, 'value': 20, 'tags': {'space': 1, 'municipality': 2, 'city': 'Brussels'}}, {'metric': 'temperature.truth', 'timestamp': 0, 'value': 20, 'tags': {'space': 1, 'municipality': 2, 'city': 'Brussels'}}, {'metric': 'temperature.error', 'timestamp': 0, 'value': 0, 'tags': {'space': 1, 'municipality': 2, 'city': 'Brussels'}}]]\n",
      "400\n",
      "Sending the partition\n",
      "[[{'metric': 'temperature.prediction', 'timestamp': 0, 'value': 20, 'tags': {'space': 24, 'municipality': 4, 'city': 'Brussels'}}, {'metric': 'temperature.truth', 'timestamp': 0, 'value': 20, 'tags': {'space': 24, 'municipality': 4, 'city': 'Brussels'}}, {'metric': 'temperature.error', 'timestamp': 0, 'value': 0, 'tags': {'space': 24, 'municipality': 4, 'city': 'Brussels'}}], [{'metric': 'temperature.prediction', 'timestamp': 0, 'value': 20, 'tags': {'space': 1, 'municipality': 2, 'city': 'Brussels'}}, {'metric': 'temperature.truth', 'timestamp': 0, 'value': 20, 'tags': {'space': 1, 'municipality': 2, 'city': 'Brussels'}}, {'metric': 'temperature.error', 'timestamp': 0, 'value': 0, 'tags': {'space': 1, 'municipality': 2, 'city': 'Brussels'}}]]\n",
      "400\n",
      "Sending the partition\n",
      "[[{'metric': 'temperature.prediction', 'timestamp': 0, 'value': 20, 'tags': {'space': 24, 'municipality': 4, 'city': 'Brussels'}}, {'metric': 'temperature.truth', 'timestamp': 0, 'value': 20, 'tags': {'space': 24, 'municipality': 4, 'city': 'Brussels'}}, {'metric': 'temperature.error', 'timestamp': 0, 'value': 0, 'tags': {'space': 24, 'municipality': 4, 'city': 'Brussels'}}], [{'metric': 'temperature.prediction', 'timestamp': 0, 'value': 20, 'tags': {'space': 1, 'municipality': 2, 'city': 'Brussels'}}, {'metric': 'temperature.truth', 'timestamp': 0, 'value': 20, 'tags': {'space': 1, 'municipality': 2, 'city': 'Brussels'}}, {'metric': 'temperature.error', 'timestamp': 0, 'value': 0, 'tags': {'space': 1, 'municipality': 2, 'city': 'Brussels'}}]]\n",
      "400\n"
     ]
    }
   ],
   "source": [
    "import requests\n",
    "\n",
    "OPENTSDB_URL = 'http://' + os.environ.get('OPENTSDB_URL') #\"http://localhost:4242\"\n",
    "print(OPENTSDB_URL)\n",
    "\n",
    "def sendPartition(iter):\n",
    "    print(\"Sending the partition\")\n",
    "    print(iter.collect())\n",
    "    if iter:\n",
    "        r = requests.post(OPENTSDB_URL + '/api/put', data=json.dumps(iter.collect()[0]))\n",
    "        print(r.status_code)\n",
    "        return r.status_code\n",
    "    else:\n",
    "        r = 400\n",
    "        print(r)\n",
    "        return r"
   ]
  },
  {
   "cell_type": "code",
   "execution_count": 26,
   "metadata": {
    "collapsed": true
   },
   "outputs": [],
   "source": [
    "import re, ast\n",
    "import json\n",
    "\n",
    "#Batch interval (to be synchronized with KafkaSend)\n",
    "interval = 1\n",
    "time_resolution = 30\n",
    "simulation = 1\n",
    "\n",
    "# state = (alpha, EMA, MSSE, N, err2, y_true, y_time, y_id)\n",
    "alpha1 = 0.2\n",
    "cluster1 = int(clusters.loc[clusters.SensorId==1].ClusterId)\n",
    "state1 = (alpha1,20,0,0,0,20,0,1)\n",
    "\n",
    "alpha24 = 0.2\n",
    "cluster24 = int(clusters.loc[clusters.SensorId==24].ClusterId)\n",
    "state24 = (alpha24,20,0,0,0,20,0,24)\n",
    "\n",
    "state_global = []\n",
    "\n",
    "# dstream value format: y_id, time_y, y_true, x_Value, x_seconds, x_SensorId, x_Type)\n",
    "if simulation:\n",
    "    [sc,ssc,dstream]=getKafkaDStream(spark=spark,topic='ClusterRLSTrain',batch_interval=interval)\n",
    "    dstream = dstream.map(lambda x: json.loads(x[1]))\n",
    "else:\n",
    "    [sc,ssc,dstream]=getKafkaDStream(spark=spark,topic='ClusterRLSTrain',batch_interval=time_resolution)\n",
    "    dstream = dstream.map(lambda x: json.loads(x[1]))\\\n",
    "                     .window(time_resolution, time_resolution)\n",
    "\n",
    "# dstream value format: (ClusterId, (y_id, time_y, y_true, x_Value, x_seconds, x_SensorId, x_Type)):\n",
    "dstream = dstream.map(lambda x: (int(clusters.loc[clusters.SensorId==int(x[5])].ClusterId), x))\n",
    "# keep only data belonging to target_cluster_id:\n",
    "dstream = dstream.filter(lambda x: x[0] == int(target_cluster[target_cluster.SensorId==x[1][0]].ClusterId))\n",
    "dstream = dstream.mapValues(lambda x: (x[3], 1, x[2], x[1], x[0])) # (x, 1, y_true, time_y, y_id)\n",
    "# compute average of x:\n",
    "dstream = dstream.reduceByKey(lambda x,y: (x[0]+y[0], x[1]+y[1], x[2], x[3], x[4]))\n",
    "dstream = dstream.mapValues(lambda x: (x[0]/x[1], x[2], x[3], x[4])) # (x, y_true, time_y, y_id)\n",
    "\n",
    "initialStateRDD = sc.parallelize([(cluster1, state1),\n",
    "                                  (cluster24, state24)])\n",
    "dstream = dstream.updateStateByKey(updateEMA, initialRDD=initialStateRDD)\n",
    "\n",
    "stateStream = dstream.map(lambda x: [{'metric': 'temperature.prediction',\n",
    "                                           'timestamp': x[1][-2],\n",
    "                                           'value': x[1][1],\n",
    "                                           'tags': {'space': x[1][-1], 'municipality': x[0], 'city': 'Brussels'}},\n",
    "                                           {'metric': 'temperature.truth',\n",
    "                                           'timestamp': x[1][-2],\n",
    "                                           'value': x[1][5],\n",
    "                                           'tags': {'space': x[1][-1], 'municipality': x[0], 'city': 'Brussels'}},\n",
    "                                           {'metric': 'temperature.error',\n",
    "                                           'timestamp': x[1][-2],\n",
    "                                           'value': x[1][4],\n",
    "                                           'tags': {'space': x[1][-1], 'municipality': x[0], 'city': 'Brussels'}}\n",
    "                                     ])\n",
    "\n",
    "\n",
    "#dstream.pprint()\n",
    "#dstream.foreachRDD(saveState)\n",
    "#stateStream.pprint()\n",
    "stateStream.foreachRDD(sendPartition)"
   ]
  },
  {
   "cell_type": "code",
   "execution_count": 27,
   "metadata": {},
   "outputs": [
    {
     "name": "stdout",
     "output_type": "stream",
     "text": [
      "Sending the partition\n",
      "[[{'metric': 'temperature.prediction', 'timestamp': 0, 'value': 20, 'tags': {'space': 24, 'municipality': 4, 'city': 'Brussels'}}, {'metric': 'temperature.truth', 'timestamp': 0, 'value': 20, 'tags': {'space': 24, 'municipality': 4, 'city': 'Brussels'}}, {'metric': 'temperature.error', 'timestamp': 0, 'value': 0, 'tags': {'space': 24, 'municipality': 4, 'city': 'Brussels'}}], [{'metric': 'temperature.prediction', 'timestamp': 0, 'value': 20, 'tags': {'space': 1, 'municipality': 2, 'city': 'Brussels'}}, {'metric': 'temperature.truth', 'timestamp': 0, 'value': 20, 'tags': {'space': 1, 'municipality': 2, 'city': 'Brussels'}}, {'metric': 'temperature.error', 'timestamp': 0, 'value': 0, 'tags': {'space': 1, 'municipality': 2, 'city': 'Brussels'}}]]\n",
      "400\n"
     ]
    },
    {
     "ename": "Py4JJavaError",
     "evalue": "An error occurred while calling o47641.awaitTermination.\n: org.apache.spark.SparkException: An exception was raised by Python:\nTraceback (most recent call last):\n  File \"/usr/local/spark-2.2.1/python/pyspark/streaming/util.py\", line 67, in call\n    return r._jrdd\nAttributeError: 'int' object has no attribute '_jrdd'\n\n\tat org.apache.spark.streaming.api.python.TransformFunction.callPythonTransformFunction(PythonDStream.scala:95)\n\tat org.apache.spark.streaming.api.python.TransformFunction.apply(PythonDStream.scala:78)\n\tat org.apache.spark.streaming.api.python.PythonDStream$$anonfun$callForeachRDD$1.apply(PythonDStream.scala:179)\n\tat org.apache.spark.streaming.api.python.PythonDStream$$anonfun$callForeachRDD$1.apply(PythonDStream.scala:179)\n\tat org.apache.spark.streaming.dstream.ForEachDStream$$anonfun$1$$anonfun$apply$mcV$sp$1.apply$mcV$sp(ForEachDStream.scala:51)\n\tat org.apache.spark.streaming.dstream.ForEachDStream$$anonfun$1$$anonfun$apply$mcV$sp$1.apply(ForEachDStream.scala:51)\n\tat org.apache.spark.streaming.dstream.ForEachDStream$$anonfun$1$$anonfun$apply$mcV$sp$1.apply(ForEachDStream.scala:51)\n\tat org.apache.spark.streaming.dstream.DStream.createRDDWithLocalProperties(DStream.scala:416)\n\tat org.apache.spark.streaming.dstream.ForEachDStream$$anonfun$1.apply$mcV$sp(ForEachDStream.scala:50)\n\tat org.apache.spark.streaming.dstream.ForEachDStream$$anonfun$1.apply(ForEachDStream.scala:50)\n\tat org.apache.spark.streaming.dstream.ForEachDStream$$anonfun$1.apply(ForEachDStream.scala:50)\n\tat scala.util.Try$.apply(Try.scala:192)\n\tat org.apache.spark.streaming.scheduler.Job.run(Job.scala:39)\n\tat org.apache.spark.streaming.scheduler.JobScheduler$JobHandler$$anonfun$run$1.apply$mcV$sp(JobScheduler.scala:257)\n\tat org.apache.spark.streaming.scheduler.JobScheduler$JobHandler$$anonfun$run$1.apply(JobScheduler.scala:257)\n\tat org.apache.spark.streaming.scheduler.JobScheduler$JobHandler$$anonfun$run$1.apply(JobScheduler.scala:257)\n\tat scala.util.DynamicVariable.withValue(DynamicVariable.scala:58)\n\tat org.apache.spark.streaming.scheduler.JobScheduler$JobHandler.run(JobScheduler.scala:256)\n\tat java.util.concurrent.ThreadPoolExecutor.runWorker(ThreadPoolExecutor.java:1149)\n\tat java.util.concurrent.ThreadPoolExecutor$Worker.run(ThreadPoolExecutor.java:624)\n\tat java.lang.Thread.run(Thread.java:748)\n",
     "output_type": "error",
     "traceback": [
      "\u001b[0;31m---------------------------------------------------------------------------\u001b[0m",
      "\u001b[0;31mPy4JJavaError\u001b[0m                             Traceback (most recent call last)",
      "\u001b[0;32m<ipython-input-27-d970cfd6a21f>\u001b[0m in \u001b[0;36m<module>\u001b[0;34m()\u001b[0m\n\u001b[1;32m      1\u001b[0m \u001b[0mssc\u001b[0m\u001b[0;34m.\u001b[0m\u001b[0mstart\u001b[0m\u001b[0;34m(\u001b[0m\u001b[0;34m)\u001b[0m\u001b[0;34m\u001b[0m\u001b[0;34m\u001b[0m\u001b[0m\n\u001b[0;32m----> 2\u001b[0;31m \u001b[0mssc\u001b[0m\u001b[0;34m.\u001b[0m\u001b[0mawaitTermination\u001b[0m\u001b[0;34m(\u001b[0m\u001b[0;34m)\u001b[0m\u001b[0;34m\u001b[0m\u001b[0;34m\u001b[0m\u001b[0m\n\u001b[0m",
      "\u001b[0;32m/usr/local/spark-2.2.1/python/pyspark/streaming/context.py\u001b[0m in \u001b[0;36mawaitTermination\u001b[0;34m(self, timeout)\u001b[0m\n\u001b[1;32m    204\u001b[0m         \"\"\"\n\u001b[1;32m    205\u001b[0m         \u001b[0;32mif\u001b[0m \u001b[0mtimeout\u001b[0m \u001b[0;32mis\u001b[0m \u001b[0;32mNone\u001b[0m\u001b[0;34m:\u001b[0m\u001b[0;34m\u001b[0m\u001b[0;34m\u001b[0m\u001b[0m\n\u001b[0;32m--> 206\u001b[0;31m             \u001b[0mself\u001b[0m\u001b[0;34m.\u001b[0m\u001b[0m_jssc\u001b[0m\u001b[0;34m.\u001b[0m\u001b[0mawaitTermination\u001b[0m\u001b[0;34m(\u001b[0m\u001b[0;34m)\u001b[0m\u001b[0;34m\u001b[0m\u001b[0;34m\u001b[0m\u001b[0m\n\u001b[0m\u001b[1;32m    207\u001b[0m         \u001b[0;32melse\u001b[0m\u001b[0;34m:\u001b[0m\u001b[0;34m\u001b[0m\u001b[0;34m\u001b[0m\u001b[0m\n\u001b[1;32m    208\u001b[0m             \u001b[0mself\u001b[0m\u001b[0;34m.\u001b[0m\u001b[0m_jssc\u001b[0m\u001b[0;34m.\u001b[0m\u001b[0mawaitTerminationOrTimeout\u001b[0m\u001b[0;34m(\u001b[0m\u001b[0mint\u001b[0m\u001b[0;34m(\u001b[0m\u001b[0mtimeout\u001b[0m \u001b[0;34m*\u001b[0m \u001b[0;36m1000\u001b[0m\u001b[0;34m)\u001b[0m\u001b[0;34m)\u001b[0m\u001b[0;34m\u001b[0m\u001b[0;34m\u001b[0m\u001b[0m\n",
      "\u001b[0;32m/usr/local/spark-2.2.1/python/lib/py4j-0.10.4-src.zip/py4j/java_gateway.py\u001b[0m in \u001b[0;36m__call__\u001b[0;34m(self, *args)\u001b[0m\n\u001b[1;32m   1131\u001b[0m         \u001b[0manswer\u001b[0m \u001b[0;34m=\u001b[0m \u001b[0mself\u001b[0m\u001b[0;34m.\u001b[0m\u001b[0mgateway_client\u001b[0m\u001b[0;34m.\u001b[0m\u001b[0msend_command\u001b[0m\u001b[0;34m(\u001b[0m\u001b[0mcommand\u001b[0m\u001b[0;34m)\u001b[0m\u001b[0;34m\u001b[0m\u001b[0;34m\u001b[0m\u001b[0m\n\u001b[1;32m   1132\u001b[0m         return_value = get_return_value(\n\u001b[0;32m-> 1133\u001b[0;31m             answer, self.gateway_client, self.target_id, self.name)\n\u001b[0m\u001b[1;32m   1134\u001b[0m \u001b[0;34m\u001b[0m\u001b[0m\n\u001b[1;32m   1135\u001b[0m         \u001b[0;32mfor\u001b[0m \u001b[0mtemp_arg\u001b[0m \u001b[0;32min\u001b[0m \u001b[0mtemp_args\u001b[0m\u001b[0;34m:\u001b[0m\u001b[0;34m\u001b[0m\u001b[0;34m\u001b[0m\u001b[0m\n",
      "\u001b[0;32m/usr/local/spark-2.2.1/python/pyspark/sql/utils.py\u001b[0m in \u001b[0;36mdeco\u001b[0;34m(*a, **kw)\u001b[0m\n\u001b[1;32m     61\u001b[0m     \u001b[0;32mdef\u001b[0m \u001b[0mdeco\u001b[0m\u001b[0;34m(\u001b[0m\u001b[0;34m*\u001b[0m\u001b[0ma\u001b[0m\u001b[0;34m,\u001b[0m \u001b[0;34m**\u001b[0m\u001b[0mkw\u001b[0m\u001b[0;34m)\u001b[0m\u001b[0;34m:\u001b[0m\u001b[0;34m\u001b[0m\u001b[0;34m\u001b[0m\u001b[0m\n\u001b[1;32m     62\u001b[0m         \u001b[0;32mtry\u001b[0m\u001b[0;34m:\u001b[0m\u001b[0;34m\u001b[0m\u001b[0;34m\u001b[0m\u001b[0m\n\u001b[0;32m---> 63\u001b[0;31m             \u001b[0;32mreturn\u001b[0m \u001b[0mf\u001b[0m\u001b[0;34m(\u001b[0m\u001b[0;34m*\u001b[0m\u001b[0ma\u001b[0m\u001b[0;34m,\u001b[0m \u001b[0;34m**\u001b[0m\u001b[0mkw\u001b[0m\u001b[0;34m)\u001b[0m\u001b[0;34m\u001b[0m\u001b[0;34m\u001b[0m\u001b[0m\n\u001b[0m\u001b[1;32m     64\u001b[0m         \u001b[0;32mexcept\u001b[0m \u001b[0mpy4j\u001b[0m\u001b[0;34m.\u001b[0m\u001b[0mprotocol\u001b[0m\u001b[0;34m.\u001b[0m\u001b[0mPy4JJavaError\u001b[0m \u001b[0;32mas\u001b[0m \u001b[0me\u001b[0m\u001b[0;34m:\u001b[0m\u001b[0;34m\u001b[0m\u001b[0;34m\u001b[0m\u001b[0m\n\u001b[1;32m     65\u001b[0m             \u001b[0ms\u001b[0m \u001b[0;34m=\u001b[0m \u001b[0me\u001b[0m\u001b[0;34m.\u001b[0m\u001b[0mjava_exception\u001b[0m\u001b[0;34m.\u001b[0m\u001b[0mtoString\u001b[0m\u001b[0;34m(\u001b[0m\u001b[0;34m)\u001b[0m\u001b[0;34m\u001b[0m\u001b[0;34m\u001b[0m\u001b[0m\n",
      "\u001b[0;32m/usr/local/spark-2.2.1/python/lib/py4j-0.10.4-src.zip/py4j/protocol.py\u001b[0m in \u001b[0;36mget_return_value\u001b[0;34m(answer, gateway_client, target_id, name)\u001b[0m\n\u001b[1;32m    317\u001b[0m                 raise Py4JJavaError(\n\u001b[1;32m    318\u001b[0m                     \u001b[0;34m\"An error occurred while calling {0}{1}{2}.\\n\"\u001b[0m\u001b[0;34m.\u001b[0m\u001b[0;34m\u001b[0m\u001b[0;34m\u001b[0m\u001b[0m\n\u001b[0;32m--> 319\u001b[0;31m                     format(target_id, \".\", name), value)\n\u001b[0m\u001b[1;32m    320\u001b[0m             \u001b[0;32melse\u001b[0m\u001b[0;34m:\u001b[0m\u001b[0;34m\u001b[0m\u001b[0;34m\u001b[0m\u001b[0m\n\u001b[1;32m    321\u001b[0m                 raise Py4JError(\n",
      "\u001b[0;31mPy4JJavaError\u001b[0m: An error occurred while calling o47641.awaitTermination.\n: org.apache.spark.SparkException: An exception was raised by Python:\nTraceback (most recent call last):\n  File \"/usr/local/spark-2.2.1/python/pyspark/streaming/util.py\", line 67, in call\n    return r._jrdd\nAttributeError: 'int' object has no attribute '_jrdd'\n\n\tat org.apache.spark.streaming.api.python.TransformFunction.callPythonTransformFunction(PythonDStream.scala:95)\n\tat org.apache.spark.streaming.api.python.TransformFunction.apply(PythonDStream.scala:78)\n\tat org.apache.spark.streaming.api.python.PythonDStream$$anonfun$callForeachRDD$1.apply(PythonDStream.scala:179)\n\tat org.apache.spark.streaming.api.python.PythonDStream$$anonfun$callForeachRDD$1.apply(PythonDStream.scala:179)\n\tat org.apache.spark.streaming.dstream.ForEachDStream$$anonfun$1$$anonfun$apply$mcV$sp$1.apply$mcV$sp(ForEachDStream.scala:51)\n\tat org.apache.spark.streaming.dstream.ForEachDStream$$anonfun$1$$anonfun$apply$mcV$sp$1.apply(ForEachDStream.scala:51)\n\tat org.apache.spark.streaming.dstream.ForEachDStream$$anonfun$1$$anonfun$apply$mcV$sp$1.apply(ForEachDStream.scala:51)\n\tat org.apache.spark.streaming.dstream.DStream.createRDDWithLocalProperties(DStream.scala:416)\n\tat org.apache.spark.streaming.dstream.ForEachDStream$$anonfun$1.apply$mcV$sp(ForEachDStream.scala:50)\n\tat org.apache.spark.streaming.dstream.ForEachDStream$$anonfun$1.apply(ForEachDStream.scala:50)\n\tat org.apache.spark.streaming.dstream.ForEachDStream$$anonfun$1.apply(ForEachDStream.scala:50)\n\tat scala.util.Try$.apply(Try.scala:192)\n\tat org.apache.spark.streaming.scheduler.Job.run(Job.scala:39)\n\tat org.apache.spark.streaming.scheduler.JobScheduler$JobHandler$$anonfun$run$1.apply$mcV$sp(JobScheduler.scala:257)\n\tat org.apache.spark.streaming.scheduler.JobScheduler$JobHandler$$anonfun$run$1.apply(JobScheduler.scala:257)\n\tat org.apache.spark.streaming.scheduler.JobScheduler$JobHandler$$anonfun$run$1.apply(JobScheduler.scala:257)\n\tat scala.util.DynamicVariable.withValue(DynamicVariable.scala:58)\n\tat org.apache.spark.streaming.scheduler.JobScheduler$JobHandler.run(JobScheduler.scala:256)\n\tat java.util.concurrent.ThreadPoolExecutor.runWorker(ThreadPoolExecutor.java:1149)\n\tat java.util.concurrent.ThreadPoolExecutor$Worker.run(ThreadPoolExecutor.java:624)\n\tat java.lang.Thread.run(Thread.java:748)\n"
     ]
    },
    {
     "name": "stdout",
     "output_type": "stream",
     "text": [
      "Sending the partition\n",
      "[[{'metric': 'temperature.prediction', 'timestamp': 0, 'value': 20, 'tags': {'space': 24, 'municipality': 4, 'city': 'Brussels'}}, {'metric': 'temperature.truth', 'timestamp': 0, 'value': 20, 'tags': {'space': 24, 'municipality': 4, 'city': 'Brussels'}}, {'metric': 'temperature.error', 'timestamp': 0, 'value': 0, 'tags': {'space': 24, 'municipality': 4, 'city': 'Brussels'}}], [{'metric': 'temperature.prediction', 'timestamp': 0, 'value': 20, 'tags': {'space': 1, 'municipality': 2, 'city': 'Brussels'}}, {'metric': 'temperature.truth', 'timestamp': 0, 'value': 20, 'tags': {'space': 1, 'municipality': 2, 'city': 'Brussels'}}, {'metric': 'temperature.error', 'timestamp': 0, 'value': 0, 'tags': {'space': 1, 'municipality': 2, 'city': 'Brussels'}}]]\n",
      "400\n",
      "Sending the partition\n",
      "[[{'metric': 'temperature.prediction', 'timestamp': 0, 'value': 20, 'tags': {'space': 24, 'municipality': 4, 'city': 'Brussels'}}, {'metric': 'temperature.truth', 'timestamp': 0, 'value': 20, 'tags': {'space': 24, 'municipality': 4, 'city': 'Brussels'}}, {'metric': 'temperature.error', 'timestamp': 0, 'value': 0, 'tags': {'space': 24, 'municipality': 4, 'city': 'Brussels'}}], [{'metric': 'temperature.prediction', 'timestamp': 0, 'value': 20, 'tags': {'space': 1, 'municipality': 2, 'city': 'Brussels'}}, {'metric': 'temperature.truth', 'timestamp': 0, 'value': 20, 'tags': {'space': 1, 'municipality': 2, 'city': 'Brussels'}}, {'metric': 'temperature.error', 'timestamp': 0, 'value': 0, 'tags': {'space': 1, 'municipality': 2, 'city': 'Brussels'}}]]\n",
      "400\n",
      "Sending the partition\n",
      "[[{'metric': 'temperature.prediction', 'timestamp': 0, 'value': 20, 'tags': {'space': 24, 'municipality': 4, 'city': 'Brussels'}}, {'metric': 'temperature.truth', 'timestamp': 0, 'value': 20, 'tags': {'space': 24, 'municipality': 4, 'city': 'Brussels'}}, {'metric': 'temperature.error', 'timestamp': 0, 'value': 0, 'tags': {'space': 24, 'municipality': 4, 'city': 'Brussels'}}], [{'metric': 'temperature.prediction', 'timestamp': 0, 'value': 20, 'tags': {'space': 1, 'municipality': 2, 'city': 'Brussels'}}, {'metric': 'temperature.truth', 'timestamp': 0, 'value': 20, 'tags': {'space': 1, 'municipality': 2, 'city': 'Brussels'}}, {'metric': 'temperature.error', 'timestamp': 0, 'value': 0, 'tags': {'space': 1, 'municipality': 2, 'city': 'Brussels'}}]]\n",
      "400\n",
      "Sending the partition\n",
      "[[{'metric': 'temperature.prediction', 'timestamp': 0, 'value': 20, 'tags': {'space': 24, 'municipality': 4, 'city': 'Brussels'}}, {'metric': 'temperature.truth', 'timestamp': 0, 'value': 20, 'tags': {'space': 24, 'municipality': 4, 'city': 'Brussels'}}, {'metric': 'temperature.error', 'timestamp': 0, 'value': 0, 'tags': {'space': 24, 'municipality': 4, 'city': 'Brussels'}}], [{'metric': 'temperature.prediction', 'timestamp': 0, 'value': 20, 'tags': {'space': 1, 'municipality': 2, 'city': 'Brussels'}}, {'metric': 'temperature.truth', 'timestamp': 0, 'value': 20, 'tags': {'space': 1, 'municipality': 2, 'city': 'Brussels'}}, {'metric': 'temperature.error', 'timestamp': 0, 'value': 0, 'tags': {'space': 1, 'municipality': 2, 'city': 'Brussels'}}]]\n",
      "400\n",
      "Sending the partition\n",
      "[[{'metric': 'temperature.prediction', 'timestamp': 0, 'value': 20, 'tags': {'space': 24, 'municipality': 4, 'city': 'Brussels'}}, {'metric': 'temperature.truth', 'timestamp': 0, 'value': 20, 'tags': {'space': 24, 'municipality': 4, 'city': 'Brussels'}}, {'metric': 'temperature.error', 'timestamp': 0, 'value': 0, 'tags': {'space': 24, 'municipality': 4, 'city': 'Brussels'}}], [{'metric': 'temperature.prediction', 'timestamp': 0, 'value': 20, 'tags': {'space': 1, 'municipality': 2, 'city': 'Brussels'}}, {'metric': 'temperature.truth', 'timestamp': 0, 'value': 20, 'tags': {'space': 1, 'municipality': 2, 'city': 'Brussels'}}, {'metric': 'temperature.error', 'timestamp': 0, 'value': 0, 'tags': {'space': 1, 'municipality': 2, 'city': 'Brussels'}}]]\n",
      "400\n",
      "Sending the partition\n",
      "[[{'metric': 'temperature.prediction', 'timestamp': 0, 'value': 20, 'tags': {'space': 24, 'municipality': 4, 'city': 'Brussels'}}, {'metric': 'temperature.truth', 'timestamp': 0, 'value': 20, 'tags': {'space': 24, 'municipality': 4, 'city': 'Brussels'}}, {'metric': 'temperature.error', 'timestamp': 0, 'value': 0, 'tags': {'space': 24, 'municipality': 4, 'city': 'Brussels'}}], [{'metric': 'temperature.prediction', 'timestamp': 0, 'value': 20, 'tags': {'space': 1, 'municipality': 2, 'city': 'Brussels'}}, {'metric': 'temperature.truth', 'timestamp': 0, 'value': 20, 'tags': {'space': 1, 'municipality': 2, 'city': 'Brussels'}}, {'metric': 'temperature.error', 'timestamp': 0, 'value': 0, 'tags': {'space': 1, 'municipality': 2, 'city': 'Brussels'}}]]\n",
      "400\n",
      "Sending the partition\n",
      "[[{'metric': 'temperature.prediction', 'timestamp': 0, 'value': 20, 'tags': {'space': 24, 'municipality': 4, 'city': 'Brussels'}}, {'metric': 'temperature.truth', 'timestamp': 0, 'value': 20, 'tags': {'space': 24, 'municipality': 4, 'city': 'Brussels'}}, {'metric': 'temperature.error', 'timestamp': 0, 'value': 0, 'tags': {'space': 24, 'municipality': 4, 'city': 'Brussels'}}], [{'metric': 'temperature.prediction', 'timestamp': 0, 'value': 20, 'tags': {'space': 1, 'municipality': 2, 'city': 'Brussels'}}, {'metric': 'temperature.truth', 'timestamp': 0, 'value': 20, 'tags': {'space': 1, 'municipality': 2, 'city': 'Brussels'}}, {'metric': 'temperature.error', 'timestamp': 0, 'value': 0, 'tags': {'space': 1, 'municipality': 2, 'city': 'Brussels'}}]]\n",
      "400\n",
      "Sending the partition\n",
      "[[{'metric': 'temperature.prediction', 'timestamp': 0, 'value': 20, 'tags': {'space': 24, 'municipality': 4, 'city': 'Brussels'}}, {'metric': 'temperature.truth', 'timestamp': 0, 'value': 20, 'tags': {'space': 24, 'municipality': 4, 'city': 'Brussels'}}, {'metric': 'temperature.error', 'timestamp': 0, 'value': 0, 'tags': {'space': 24, 'municipality': 4, 'city': 'Brussels'}}], [{'metric': 'temperature.prediction', 'timestamp': 0, 'value': 20, 'tags': {'space': 1, 'municipality': 2, 'city': 'Brussels'}}, {'metric': 'temperature.truth', 'timestamp': 0, 'value': 20, 'tags': {'space': 1, 'municipality': 2, 'city': 'Brussels'}}, {'metric': 'temperature.error', 'timestamp': 0, 'value': 0, 'tags': {'space': 1, 'municipality': 2, 'city': 'Brussels'}}]]\n",
      "400\n",
      "Sending the partition\n",
      "[[{'metric': 'temperature.prediction', 'timestamp': 0, 'value': 20, 'tags': {'space': 24, 'municipality': 4, 'city': 'Brussels'}}, {'metric': 'temperature.truth', 'timestamp': 0, 'value': 20, 'tags': {'space': 24, 'municipality': 4, 'city': 'Brussels'}}, {'metric': 'temperature.error', 'timestamp': 0, 'value': 0, 'tags': {'space': 24, 'municipality': 4, 'city': 'Brussels'}}], [{'metric': 'temperature.prediction', 'timestamp': 0, 'value': 20, 'tags': {'space': 1, 'municipality': 2, 'city': 'Brussels'}}, {'metric': 'temperature.truth', 'timestamp': 0, 'value': 20, 'tags': {'space': 1, 'municipality': 2, 'city': 'Brussels'}}, {'metric': 'temperature.error', 'timestamp': 0, 'value': 0, 'tags': {'space': 1, 'municipality': 2, 'city': 'Brussels'}}]]\n",
      "400\n",
      "Sending the partition\n",
      "[[{'metric': 'temperature.prediction', 'timestamp': 0, 'value': 20, 'tags': {'space': 24, 'municipality': 4, 'city': 'Brussels'}}, {'metric': 'temperature.truth', 'timestamp': 0, 'value': 20, 'tags': {'space': 24, 'municipality': 4, 'city': 'Brussels'}}, {'metric': 'temperature.error', 'timestamp': 0, 'value': 0, 'tags': {'space': 24, 'municipality': 4, 'city': 'Brussels'}}], [{'metric': 'temperature.prediction', 'timestamp': 0, 'value': 20, 'tags': {'space': 1, 'municipality': 2, 'city': 'Brussels'}}, {'metric': 'temperature.truth', 'timestamp': 0, 'value': 20, 'tags': {'space': 1, 'municipality': 2, 'city': 'Brussels'}}, {'metric': 'temperature.error', 'timestamp': 0, 'value': 0, 'tags': {'space': 1, 'municipality': 2, 'city': 'Brussels'}}]]\n",
      "400\n",
      "Sending the partition\n",
      "[[{'metric': 'temperature.prediction', 'timestamp': 0, 'value': 20, 'tags': {'space': 24, 'municipality': 4, 'city': 'Brussels'}}, {'metric': 'temperature.truth', 'timestamp': 0, 'value': 20, 'tags': {'space': 24, 'municipality': 4, 'city': 'Brussels'}}, {'metric': 'temperature.error', 'timestamp': 0, 'value': 0, 'tags': {'space': 24, 'municipality': 4, 'city': 'Brussels'}}], [{'metric': 'temperature.prediction', 'timestamp': 0, 'value': 20, 'tags': {'space': 1, 'municipality': 2, 'city': 'Brussels'}}, {'metric': 'temperature.truth', 'timestamp': 0, 'value': 20, 'tags': {'space': 1, 'municipality': 2, 'city': 'Brussels'}}, {'metric': 'temperature.error', 'timestamp': 0, 'value': 0, 'tags': {'space': 1, 'municipality': 2, 'city': 'Brussels'}}]]\n",
      "400\n"
     ]
    }
   ],
   "source": [
    "ssc.start()\n",
    "ssc.awaitTermination()"
   ]
  },
  {
   "cell_type": "code",
   "execution_count": 28,
   "metadata": {},
   "outputs": [
    {
     "name": "stdout",
     "output_type": "stream",
     "text": [
      "Sending the partition\n",
      "[[{'metric': 'temperature.prediction', 'timestamp': 0, 'value': 20, 'tags': {'space': 24, 'municipality': 4, 'city': 'Brussels'}}, {'metric': 'temperature.truth', 'timestamp': 0, 'value': 20, 'tags': {'space': 24, 'municipality': 4, 'city': 'Brussels'}}, {'metric': 'temperature.error', 'timestamp': 0, 'value': 0, 'tags': {'space': 24, 'municipality': 4, 'city': 'Brussels'}}], [{'metric': 'temperature.prediction', 'timestamp': 0, 'value': 20, 'tags': {'space': 1, 'municipality': 2, 'city': 'Brussels'}}, {'metric': 'temperature.truth', 'timestamp': 0, 'value': 20, 'tags': {'space': 1, 'municipality': 2, 'city': 'Brussels'}}, {'metric': 'temperature.error', 'timestamp': 0, 'value': 0, 'tags': {'space': 1, 'municipality': 2, 'city': 'Brussels'}}]]\n",
      "400\n"
     ]
    }
   ],
   "source": [
    "ssc.stop(stopSparkContext=False,stopGraceFully=False)"
   ]
  },
  {
   "cell_type": "code",
   "execution_count": 14,
   "metadata": {},
   "outputs": [
    {
     "data": {
      "image/png": "[encoded data removed]",
      "text/plain": [
       "<matplotlib.figure.Figure at 0x7f446a277668>"
      ]
     },
     "metadata": {},
     "output_type": "display_data"
    },
    {
     "name": "stdout",
     "output_type": "stream",
     "text": [
      "MSE =  0.734356002642\n"
     ]
    }
   ],
   "source": [
    "yhat = []\n",
    "ytrue = []\n",
    "time = []\n",
    "err2 = []\n",
    "for rdd in state_global:\n",
    "    for pred in rdd:\n",
    "        alpha, EMA, MSSE, N, err_2, y_true, bin = pred[1]\n",
    "        yhat.append(EMA)\n",
    "        ytrue.append(y_true)\n",
    "        time.append(bin)\n",
    "        err2.append(err_2)\n",
    "\n",
    "import matplotlib.pyplot as plt\n",
    "\n",
    "time = np.array(time)\n",
    "yhat = np.array(yhat)\n",
    "ytrue = np.array(ytrue)\n",
    "err2 = np.array(err2)\n",
    "\n",
    "fig1, ax1 = plt.subplots()\n",
    "ax1.plot(time, ytrue)\n",
    "ax1.set_title(\"Temperature prediction of day 1\")\n",
    "ax1.set_xlabel(\"time [1 bin = 30s]\")\n",
    "\n",
    "ax1.plot(time, yhat)\n",
    "#ax1.plot(time, err2)\n",
    "plt.show()\n",
    "\n",
    "print('MSE = ', np.mean(err2))\n"
   ]
  },
  {
   "cell_type": "code",
   "execution_count": 30,
   "metadata": {},
   "outputs": [
    {
     "data": {
      "text/plain": [
       "array([0, 0, 0, 0, 0, 0, 0])"
      ]
     },
     "execution_count": 30,
     "metadata": {},
     "output_type": "execute_result"
    }
   ],
   "source": []
  }
 ],
 "metadata": {
  "kernelspec": {
   "display_name": "Python 3",
   "language": "python",
   "name": "python3"
  },
  "language_info": {
   "codemirror_mode": {
    "name": "ipython",
    "version": 3
   },
   "file_extension": ".py",
   "mimetype": "text/x-python",
   "name": "python",
   "nbconvert_exporter": "python",
   "pygments_lexer": "ipython3",
   "version": "3.6.7"
  }
 },
 "nbformat": 4,
 "nbformat_minor": 2
}
