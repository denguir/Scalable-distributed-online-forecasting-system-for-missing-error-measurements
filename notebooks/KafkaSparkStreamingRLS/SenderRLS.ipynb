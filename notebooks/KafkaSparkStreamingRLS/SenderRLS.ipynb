{
 "cells": [
  {
   "cell_type": "code",
   "execution_count": 1,
   "metadata": {
    "collapsed": true
   },
   "outputs": [],
   "source": [
    "from kafka import KafkaProducer\n",
    "import time\n",
    "import numpy as np\n",
    "import pandas as pd"
   ]
  },
  {
   "cell_type": "code",
   "execution_count": 2,
   "metadata": {
    "collapsed": true
   },
   "outputs": [],
   "source": [
    "#Takes about one minute to load\n",
    "data=pd.read_csv(\"../../data/data.conv.txt.gz\",header=None,sep=\" \")\n",
    "data.columns=[\"Date\",\"Hour\",\"Sensor\",\"Value\",\"Voltage\"]\n",
    "data=data.sort_values(['Date','Hour']).reset_index(drop=True)\n",
    "\n",
    "data['datetime']=pd.to_datetime(data.Date+' '+data.Hour)\n",
    "data['relative_datetime']=data['datetime']-data['datetime'][0]\n",
    "data['seconds']=data['relative_datetime'].dt.total_seconds()\n",
    "\n",
    "sensorId_type=data.Sensor.str.split(\"-\",expand=True)\n",
    "sensorId_type.columns=['SensorId','Type']\n",
    "data['SensorId']=sensorId_type['SensorId'].astype(int)\n",
    "data['Type']=sensorId_type['Type'].astype(int)"
   ]
  },
  {
   "cell_type": "code",
   "execution_count": 3,
   "metadata": {
    "collapsed": true
   },
   "outputs": [],
   "source": [
    "#Drop features not needed for the simulation\n",
    "data=data.drop(['datetime','relative_datetime','Sensor','Date','Hour','Voltage'],axis=1)"
   ]
  },
  {
   "cell_type": "code",
   "execution_count": 4,
   "metadata": {},
   "outputs": [
    {
     "data": {
      "text/html": [
       "<div>\n",
       "<style>\n",
       "    .dataframe thead tr:only-child th {\n",
       "        text-align: right;\n",
       "    }\n",
       "\n",
       "    .dataframe thead th {\n",
       "        text-align: left;\n",
       "    }\n",
       "\n",
       "    .dataframe tbody tr th {\n",
       "        vertical-align: top;\n",
       "    }\n",
       "</style>\n",
       "<table border=\"1\" class=\"dataframe\">\n",
       "  <thead>\n",
       "    <tr style=\"text-align: right;\">\n",
       "      <th></th>\n",
       "      <th>Value</th>\n",
       "      <th>seconds</th>\n",
       "      <th>SensorId</th>\n",
       "      <th>Type</th>\n",
       "    </tr>\n",
       "  </thead>\n",
       "  <tbody>\n",
       "    <tr>\n",
       "      <th>0</th>\n",
       "      <td>17.6364</td>\n",
       "      <td>0.000</td>\n",
       "      <td>41</td>\n",
       "      <td>0</td>\n",
       "    </tr>\n",
       "    <tr>\n",
       "      <th>1</th>\n",
       "      <td>16.6956</td>\n",
       "      <td>0.007</td>\n",
       "      <td>44</td>\n",
       "      <td>0</td>\n",
       "    </tr>\n",
       "    <tr>\n",
       "      <th>2</th>\n",
       "      <td>45.7037</td>\n",
       "      <td>0.092</td>\n",
       "      <td>41</td>\n",
       "      <td>1</td>\n",
       "    </tr>\n",
       "    <tr>\n",
       "      <th>3</th>\n",
       "      <td>2.3000</td>\n",
       "      <td>0.237</td>\n",
       "      <td>44</td>\n",
       "      <td>2</td>\n",
       "    </tr>\n",
       "    <tr>\n",
       "      <th>4</th>\n",
       "      <td>47.9942</td>\n",
       "      <td>0.285</td>\n",
       "      <td>44</td>\n",
       "      <td>1</td>\n",
       "    </tr>\n",
       "  </tbody>\n",
       "</table>\n",
       "</div>"
      ],
      "text/plain": [
       "     Value  seconds  SensorId  Type\n",
       "0  17.6364    0.000        41     0\n",
       "1  16.6956    0.007        44     0\n",
       "2  45.7037    0.092        41     1\n",
       "3   2.3000    0.237        44     2\n",
       "4  47.9942    0.285        44     1"
      ]
     },
     "execution_count": 4,
     "metadata": {},
     "output_type": "execute_result"
    }
   ],
   "source": [
    "data[:5]"
   ]
  },
  {
   "cell_type": "code",
   "execution_count": 5,
   "metadata": {
    "collapsed": true
   },
   "outputs": [],
   "source": [
    "temp=data[data.Type==0]\n",
    "temp=temp.reset_index(drop=True)"
   ]
  },
  {
   "cell_type": "code",
   "execution_count": 6,
   "metadata": {
    "collapsed": true
   },
   "outputs": [],
   "source": [
    "day_to_predict = 1 # must be at least 1\n",
    "temp_train = temp[temp.seconds < day_to_predict*86400]\n",
    "temp_test = temp[(temp.seconds >= day_to_predict*86400) & (temp.seconds < (day_to_predict+1)*86400)]"
   ]
  },
  {
   "cell_type": "code",
   "execution_count": 7,
   "metadata": {},
   "outputs": [
    {
     "name": "stdout",
     "output_type": "stream",
     "text": [
      "Value       17.6364\n",
      "seconds      0.0000\n",
      "SensorId    41.0000\n",
      "Type         0.0000\n",
      "Name: 0, dtype: float64\n"
     ]
    }
   ],
   "source": [
    "temp_sample = temp_train[:20]\n",
    "print(temp_sample.iloc[0])"
   ]
  },
  {
   "cell_type": "code",
   "execution_count": 8,
   "metadata": {
    "collapsed": true
   },
   "outputs": [],
   "source": [
    "producer = KafkaProducer(bootstrap_servers='kafka1:19092,kafka2:29092,kafka3:39092')"
   ]
  },
  {
   "cell_type": "code",
   "execution_count": 9,
   "metadata": {},
   "outputs": [
    {
     "name": "stdout",
     "output_type": "stream",
     "text": [
      "       Value  seconds  SensorId  Type\n",
      "64   18.1362   53.492        24     0\n",
      "79   19.2436   79.124         1     0\n",
      "81   18.1166   79.230        24     0\n",
      "114  18.1264  108.864        24     0\n",
      "146  18.1362  138.638        24     0\n",
      "188  19.2240  169.155         1     0\n",
      "224  19.2142  200.931         1     0\n",
      "247  18.1460  229.040        24     0\n",
      "305  19.1848  264.276         1     0\n",
      "321  18.1264  290.305        24     0\n"
     ]
    }
   ],
   "source": [
    "# Sensors to predict\n",
    "sensors_to_predict = [1, 24]\n",
    "temp_train_y = temp_train[temp_train.SensorId.isin(sensors_to_predict)][:10]\n",
    "print(temp_train_y[:10])"
   ]
  },
  {
   "cell_type": "code",
   "execution_count": null,
   "metadata": {
    "collapsed": true
   },
   "outputs": [],
   "source": [
    "import json\n",
    "\n",
    "time_resolution = 60 # window of time we use to extract other time-related temperatures\n",
    "interval = 1 # waiting interval between the sending of each temperature to predict\n",
    "n = 10 # short-time memory length (in time_resolution)\n",
    "m = 1 # long-time memory length (in days, i.e. 86400 s)\n",
    "for iy, ry in temp_train_y.iterrows():\n",
    "    tic = time.time()\n",
    "    y = ry.Value\n",
    "    id_y = ry.SensorId\n",
    "    bin_y = ry.seconds//time_resolution\n",
    "    day_y = ry.seconds//86400\n",
    "    temp_past = temp_train_y[((temp_train_y.seconds//time_resolution < bin_y)\n",
    "                             & (temp_train_y.seconds//time_resolution >= bin_y - n))\n",
    "                             | (temp_train_y.seconds//86400 < )\n",
    "                             & (temp_train.SensorId == id_y)]"
   ]
  }
 ],
 "metadata": {
  "kernelspec": {
   "display_name": "Python 3",
   "language": "python",
   "name": "python3"
  },
  "language_info": {
   "codemirror_mode": {
    "name": "ipython",
    "version": 3
   },
   "file_extension": ".py",
   "mimetype": "text/x-python",
   "name": "python",
   "nbconvert_exporter": "python",
   "pygments_lexer": "ipython3",
   "version": "3.6.7"
  }
 },
 "nbformat": 4,
 "nbformat_minor": 2
}
